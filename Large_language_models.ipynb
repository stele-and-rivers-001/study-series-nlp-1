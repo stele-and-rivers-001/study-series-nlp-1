{
  "nbformat": 4,
  "nbformat_minor": 0,
  "metadata": {
    "colab": {
      "provenance": [],
      "include_colab_link": true
    },
    "kernelspec": {
      "name": "python3",
      "display_name": "Python 3"
    },
    "language_info": {
      "name": "python"
    }
  },
  "cells": [
    {
      "cell_type": "markdown",
      "metadata": {
        "id": "view-in-github",
        "colab_type": "text"
      },
      "source": [
        "<a href=\"https://colab.research.google.com/github/stele-and-rivers-001/study-series-nlp-1/blob/main/Large_language_models.ipynb\" target=\"_parent\"><img src=\"https://colab.research.google.com/assets/colab-badge.svg\" alt=\"Open In Colab\"/></a>"
      ]
    },
    {
      "cell_type": "markdown",
      "source": [
        "## Introduction"
      ],
      "metadata": {
        "id": "JNTK3QU4Z2aA"
      }
    },
    {
      "cell_type": "markdown",
      "source": [
        "If you have been following along with this series, you likely already have some familiarity with chat completion models such as OpenAI's GPT model series. If not, check out ChatGPT to see the magic in action. These *Large Language Models*, or LLMs, are designed to take text as input and generate human-like responses based on the input that they receive. They are trained on vast amounts of text data and are capable of a wide range of language-related tasks, such as answering questions, generating text, translating languages, and more. If you're familiar in working with APIs, you can work directly with many of these models using python, as we did in the last two parts of this series.\n",
        "\n",
        "*Prompt engineering* is the process of designing and refining the text inputs to generate desired responses from artificial intelligence models, particularly large language models like GPT. We will explore prompt engineering techniques to improve performance as well.\n",
        "\n",
        "This study will compare performance of some of the most popular AI chat models for our text classification task. At a base level, here's how we'll run the test: instead of sending ChatGPT each job title in our list of ~1,000 in an individual chat window one by one, we will create a script in python that will feed each item and ask the model to categorize it into our labels. Then we can measure performance and compare to our models from the previous studies. Since there is no training stage, we will only use the test data. Using prompt engineering best practices we can provide additional context to assist the models. We won't dive too deeply into features such as agents and assistants, as those will be the focus of the next study in this series.\n",
        "\n",
        "The models included in this study are as follows: OpenAI's GPT-3 and GPT-4, Meta's Llama 3, Google's Gemini Pro 1.0, Huggingface's Hugging Chat and Anthropic's Claude Sonnet. Integrating these APIs into your code is not a one size fits all approach. Each company has different integration processes, so it is important to have an understanding of the associated documentation for each model. Let's dive in!"
      ],
      "metadata": {
        "id": "moixolvoZ87L"
      }
    },
    {
      "cell_type": "markdown",
      "source": [
        "## Install libraries and import data"
      ],
      "metadata": {
        "id": "juFSFLk57Odh"
      }
    },
    {
      "cell_type": "code",
      "source": [
        "! pip install -Uqq openai\n",
        "! pip install -Uqq google-generativeai\n",
        "! pip install -Uqq replicate\n",
        "! pip install -Uqq hugchat\n",
        "! pip install -Uqq anthropic"
      ],
      "metadata": {
        "colab": {
          "base_uri": "https://localhost:8080/"
        },
        "id": "XIZwSLCZqSEM",
        "outputId": "51a71078-73a0-4bdb-c120-635bcf0f49d7"
      },
      "execution_count": null,
      "outputs": [
        {
          "output_type": "stream",
          "name": "stdout",
          "text": [
            "\u001b[2K     \u001b[90m━━━━━━━━━━━━━━━━━━━━━━━━━━━━━━━━━━━━━━━━\u001b[0m \u001b[32m324.1/324.1 kB\u001b[0m \u001b[31m4.6 MB/s\u001b[0m eta \u001b[36m0:00:00\u001b[0m\n",
            "\u001b[2K     \u001b[90m━━━━━━━━━━━━━━━━━━━━━━━━━━━━━━━━━━━━━━━━\u001b[0m \u001b[32m75.6/75.6 kB\u001b[0m \u001b[31m3.3 MB/s\u001b[0m eta \u001b[36m0:00:00\u001b[0m\n",
            "\u001b[2K     \u001b[90m━━━━━━━━━━━━━━━━━━━━━━━━━━━━━━━━━━━━━━━━\u001b[0m \u001b[32m77.9/77.9 kB\u001b[0m \u001b[31m3.9 MB/s\u001b[0m eta \u001b[36m0:00:00\u001b[0m\n",
            "\u001b[2K     \u001b[90m━━━━━━━━━━━━━━━━━━━━━━━━━━━━━━━━━━━━━━━━\u001b[0m \u001b[32m58.3/58.3 kB\u001b[0m \u001b[31m2.6 MB/s\u001b[0m eta \u001b[36m0:00:00\u001b[0m\n",
            "\u001b[2K     \u001b[90m━━━━━━━━━━━━━━━━━━━━━━━━━━━━━━━━━━━━━━━━\u001b[0m \u001b[32m158.8/158.8 kB\u001b[0m \u001b[31m3.9 MB/s\u001b[0m eta \u001b[36m0:00:00\u001b[0m\n",
            "\u001b[2K     \u001b[90m━━━━━━━━━━━━━━━━━━━━━━━━━━━━━━━━━━━━━━━━\u001b[0m \u001b[32m40.0/40.0 kB\u001b[0m \u001b[31m1.8 MB/s\u001b[0m eta \u001b[36m0:00:00\u001b[0m\n",
            "\u001b[2K     \u001b[90m━━━━━━━━━━━━━━━━━━━━━━━━━━━━━━━━━━━━━━━━\u001b[0m \u001b[32m54.5/54.5 kB\u001b[0m \u001b[31m3.7 MB/s\u001b[0m eta \u001b[36m0:00:00\u001b[0m\n",
            "\u001b[2K     \u001b[90m━━━━━━━━━━━━━━━━━━━━━━━━━━━━━━━━━━━━━━━━\u001b[0m \u001b[32m862.7/862.7 kB\u001b[0m \u001b[31m15.8 MB/s\u001b[0m eta \u001b[36m0:00:00\u001b[0m\n",
            "\u001b[2K     \u001b[90m━━━━━━━━━━━━━━━━━━━━━━━━━━━━━━━━━━━━━━━━\u001b[0m \u001b[32m328.3/328.3 kB\u001b[0m \u001b[31m29.7 MB/s\u001b[0m eta \u001b[36m0:00:00\u001b[0m\n",
            "\u001b[?25h"
          ]
        }
      ]
    },
    {
      "cell_type": "code",
      "source": [
        "#hide\n",
        "import json\n",
        "import os\n",
        "from pathlib import Path\n",
        "import openai\n",
        "from openai import OpenAI\n",
        "from google.colab import files, drive\n",
        "import pandas as pd\n",
        "import time\n",
        "import google.generativeai as genai\n",
        "import replicate\n",
        "from hugchat import hugchat\n",
        "from hugchat.login import Login\n",
        "import anthropic\n",
        "import textwrap\n",
        "from IPython.display import display\n",
        "from IPython.display import Markdown"
      ],
      "metadata": {
        "id": "IRC3PCc0bd_q"
      },
      "execution_count": null,
      "outputs": []
    },
    {
      "cell_type": "code",
      "source": [
        "#hide\n",
        "drive.mount('/content/drive')"
      ],
      "metadata": {
        "colab": {
          "base_uri": "https://localhost:8080/"
        },
        "id": "VJjKSFOMgSRV",
        "outputId": "31d24728-5864-49f9-d5d2-15e1a0e79f46"
      },
      "execution_count": null,
      "outputs": [
        {
          "output_type": "stream",
          "name": "stdout",
          "text": [
            "Mounted at /content/drive\n"
          ]
        }
      ]
    },
    {
      "cell_type": "markdown",
      "source": [
        "You'll need an API key for each model. The below code can be used for uploading and reading a file with all of your API keys, but you can also use the Google Colab secrets panel."
      ],
      "metadata": {
        "id": "KzsbQx_7f97k"
      }
    },
    {
      "cell_type": "code",
      "source": [
        "uploaded = files.upload()"
      ],
      "metadata": {
        "colab": {
          "base_uri": "https://localhost:8080/",
          "height": 73
        },
        "id": "aq-bEHVYdw_k",
        "outputId": "51c65bb6-f94b-41da-9dc3-c0d1bad90363"
      },
      "execution_count": null,
      "outputs": [
        {
          "output_type": "display_data",
          "data": {
            "text/plain": [
              "<IPython.core.display.HTML object>"
            ],
            "text/html": [
              "\n",
              "     <input type=\"file\" id=\"files-1028730e-ffbf-4458-bcec-2d9e092be568\" name=\"files[]\" multiple disabled\n",
              "        style=\"border:none\" />\n",
              "     <output id=\"result-1028730e-ffbf-4458-bcec-2d9e092be568\">\n",
              "      Upload widget is only available when the cell has been executed in the\n",
              "      current browser session. Please rerun this cell to enable.\n",
              "      </output>\n",
              "      <script>// Copyright 2017 Google LLC\n",
              "//\n",
              "// Licensed under the Apache License, Version 2.0 (the \"License\");\n",
              "// you may not use this file except in compliance with the License.\n",
              "// You may obtain a copy of the License at\n",
              "//\n",
              "//      http://www.apache.org/licenses/LICENSE-2.0\n",
              "//\n",
              "// Unless required by applicable law or agreed to in writing, software\n",
              "// distributed under the License is distributed on an \"AS IS\" BASIS,\n",
              "// WITHOUT WARRANTIES OR CONDITIONS OF ANY KIND, either express or implied.\n",
              "// See the License for the specific language governing permissions and\n",
              "// limitations under the License.\n",
              "\n",
              "/**\n",
              " * @fileoverview Helpers for google.colab Python module.\n",
              " */\n",
              "(function(scope) {\n",
              "function span(text, styleAttributes = {}) {\n",
              "  const element = document.createElement('span');\n",
              "  element.textContent = text;\n",
              "  for (const key of Object.keys(styleAttributes)) {\n",
              "    element.style[key] = styleAttributes[key];\n",
              "  }\n",
              "  return element;\n",
              "}\n",
              "\n",
              "// Max number of bytes which will be uploaded at a time.\n",
              "const MAX_PAYLOAD_SIZE = 100 * 1024;\n",
              "\n",
              "function _uploadFiles(inputId, outputId) {\n",
              "  const steps = uploadFilesStep(inputId, outputId);\n",
              "  const outputElement = document.getElementById(outputId);\n",
              "  // Cache steps on the outputElement to make it available for the next call\n",
              "  // to uploadFilesContinue from Python.\n",
              "  outputElement.steps = steps;\n",
              "\n",
              "  return _uploadFilesContinue(outputId);\n",
              "}\n",
              "\n",
              "// This is roughly an async generator (not supported in the browser yet),\n",
              "// where there are multiple asynchronous steps and the Python side is going\n",
              "// to poll for completion of each step.\n",
              "// This uses a Promise to block the python side on completion of each step,\n",
              "// then passes the result of the previous step as the input to the next step.\n",
              "function _uploadFilesContinue(outputId) {\n",
              "  const outputElement = document.getElementById(outputId);\n",
              "  const steps = outputElement.steps;\n",
              "\n",
              "  const next = steps.next(outputElement.lastPromiseValue);\n",
              "  return Promise.resolve(next.value.promise).then((value) => {\n",
              "    // Cache the last promise value to make it available to the next\n",
              "    // step of the generator.\n",
              "    outputElement.lastPromiseValue = value;\n",
              "    return next.value.response;\n",
              "  });\n",
              "}\n",
              "\n",
              "/**\n",
              " * Generator function which is called between each async step of the upload\n",
              " * process.\n",
              " * @param {string} inputId Element ID of the input file picker element.\n",
              " * @param {string} outputId Element ID of the output display.\n",
              " * @return {!Iterable<!Object>} Iterable of next steps.\n",
              " */\n",
              "function* uploadFilesStep(inputId, outputId) {\n",
              "  const inputElement = document.getElementById(inputId);\n",
              "  inputElement.disabled = false;\n",
              "\n",
              "  const outputElement = document.getElementById(outputId);\n",
              "  outputElement.innerHTML = '';\n",
              "\n",
              "  const pickedPromise = new Promise((resolve) => {\n",
              "    inputElement.addEventListener('change', (e) => {\n",
              "      resolve(e.target.files);\n",
              "    });\n",
              "  });\n",
              "\n",
              "  const cancel = document.createElement('button');\n",
              "  inputElement.parentElement.appendChild(cancel);\n",
              "  cancel.textContent = 'Cancel upload';\n",
              "  const cancelPromise = new Promise((resolve) => {\n",
              "    cancel.onclick = () => {\n",
              "      resolve(null);\n",
              "    };\n",
              "  });\n",
              "\n",
              "  // Wait for the user to pick the files.\n",
              "  const files = yield {\n",
              "    promise: Promise.race([pickedPromise, cancelPromise]),\n",
              "    response: {\n",
              "      action: 'starting',\n",
              "    }\n",
              "  };\n",
              "\n",
              "  cancel.remove();\n",
              "\n",
              "  // Disable the input element since further picks are not allowed.\n",
              "  inputElement.disabled = true;\n",
              "\n",
              "  if (!files) {\n",
              "    return {\n",
              "      response: {\n",
              "        action: 'complete',\n",
              "      }\n",
              "    };\n",
              "  }\n",
              "\n",
              "  for (const file of files) {\n",
              "    const li = document.createElement('li');\n",
              "    li.append(span(file.name, {fontWeight: 'bold'}));\n",
              "    li.append(span(\n",
              "        `(${file.type || 'n/a'}) - ${file.size} bytes, ` +\n",
              "        `last modified: ${\n",
              "            file.lastModifiedDate ? file.lastModifiedDate.toLocaleDateString() :\n",
              "                                    'n/a'} - `));\n",
              "    const percent = span('0% done');\n",
              "    li.appendChild(percent);\n",
              "\n",
              "    outputElement.appendChild(li);\n",
              "\n",
              "    const fileDataPromise = new Promise((resolve) => {\n",
              "      const reader = new FileReader();\n",
              "      reader.onload = (e) => {\n",
              "        resolve(e.target.result);\n",
              "      };\n",
              "      reader.readAsArrayBuffer(file);\n",
              "    });\n",
              "    // Wait for the data to be ready.\n",
              "    let fileData = yield {\n",
              "      promise: fileDataPromise,\n",
              "      response: {\n",
              "        action: 'continue',\n",
              "      }\n",
              "    };\n",
              "\n",
              "    // Use a chunked sending to avoid message size limits. See b/62115660.\n",
              "    let position = 0;\n",
              "    do {\n",
              "      const length = Math.min(fileData.byteLength - position, MAX_PAYLOAD_SIZE);\n",
              "      const chunk = new Uint8Array(fileData, position, length);\n",
              "      position += length;\n",
              "\n",
              "      const base64 = btoa(String.fromCharCode.apply(null, chunk));\n",
              "      yield {\n",
              "        response: {\n",
              "          action: 'append',\n",
              "          file: file.name,\n",
              "          data: base64,\n",
              "        },\n",
              "      };\n",
              "\n",
              "      let percentDone = fileData.byteLength === 0 ?\n",
              "          100 :\n",
              "          Math.round((position / fileData.byteLength) * 100);\n",
              "      percent.textContent = `${percentDone}% done`;\n",
              "\n",
              "    } while (position < fileData.byteLength);\n",
              "  }\n",
              "\n",
              "  // All done.\n",
              "  yield {\n",
              "    response: {\n",
              "      action: 'complete',\n",
              "    }\n",
              "  };\n",
              "}\n",
              "\n",
              "scope.google = scope.google || {};\n",
              "scope.google.colab = scope.google.colab || {};\n",
              "scope.google.colab._files = {\n",
              "  _uploadFiles,\n",
              "  _uploadFilesContinue,\n",
              "};\n",
              "})(self);\n",
              "</script> "
            ]
          },
          "metadata": {}
        },
        {
          "output_type": "stream",
          "name": "stdout",
          "text": [
            "Saving secrets.txt to secrets.txt\n"
          ]
        }
      ]
    },
    {
      "cell_type": "code",
      "source": [
        "with open('secrets.txt', 'r') as f:\n",
        "    lines = f.readlines()\n",
        "\n",
        "## set the openai key\n",
        "openai_api_key = None\n",
        "for line in lines:\n",
        "    if line.startswith('OPENAI_API_KEY='):\n",
        "        openai_api_key = line.strip().split('=')[1]\n",
        "        break\n",
        "\n",
        "## set the hugging face key\n",
        "hf_api_key = None\n",
        "for line in lines:\n",
        "    if line.startswith('HUGGING_FACE_KEY='):\n",
        "        hf_api_key = line.strip().split('=')[1]\n",
        "        break\n",
        "\n",
        "## set the hugging face email\n",
        "hf_email = None\n",
        "for line in lines:\n",
        "    if line.startswith('HF_EMAIL='):\n",
        "        hf_email = line.strip().split('=')[1]\n",
        "        break\n",
        "\n",
        "## set the hugging face password\n",
        "hf_pw = None\n",
        "for line in lines:\n",
        "    if line.startswith('HF_PW='):\n",
        "        hf_pw = line.strip().split('=')[1]\n",
        "        break\n",
        "\n",
        "## set the gemini key\n",
        "gemini_api_key = None\n",
        "for line in lines:\n",
        "    if line.startswith('GEMINI_API_KEY='):\n",
        "        gemini_api_key = line.strip().split('=')[1]\n",
        "        break\n",
        "\n",
        "## set the replicate key (llama)\n",
        "replicate_api_key = None\n",
        "for line in lines:\n",
        "    if line.startswith('REPLICATE_API_KEY='):\n",
        "        replicate_api_key = line.strip().split('=')[1]\n",
        "        break\n",
        "\n",
        "## set the claude key\n",
        "claude_api_key = None\n",
        "for line in lines:\n",
        "    if line.startswith('CLAUDE_API_KEY='):\n",
        "        claude_api_key = line.strip().split('=')[1]\n",
        "        break"
      ],
      "metadata": {
        "id": "VIJzZuanecGi"
      },
      "execution_count": null,
      "outputs": []
    },
    {
      "cell_type": "markdown",
      "source": [
        "Import test data. This method does not require a training dataset as we are directly asking the chat models to categorize the data.\n",
        "\n",
        "You can access the test data here:\n",
        "https://drive.google.com/drive/folders/1b8l9kVtItOInUVASMvzpu1evVSR7x1Ub"
      ],
      "metadata": {
        "id": "v7tebv9IgDqQ"
      }
    },
    {
      "cell_type": "code",
      "source": [
        "#### add your path to test_data.csv below ####\n",
        "test_df = pd.read_csv('test_data.csv', sep='|')\n",
        "test_df.columns"
      ],
      "metadata": {
        "colab": {
          "base_uri": "https://localhost:8080/"
        },
        "id": "_KyzhKYfgeqK",
        "outputId": "c181fcee-c1d5-42ed-d141-bd15e6ebbb10"
      },
      "execution_count": null,
      "outputs": [
        {
          "output_type": "execute_result",
          "data": {
            "text/plain": [
              "Index(['label', 'text'], dtype='object')"
            ]
          },
          "metadata": {},
          "execution_count": 6
        }
      ]
    },
    {
      "cell_type": "code",
      "source": [
        "test_df.columns = ['label','text']\n",
        "test_df.tail()"
      ],
      "metadata": {
        "colab": {
          "base_uri": "https://localhost:8080/",
          "height": 206
        },
        "id": "vnTLzynzgk2_",
        "outputId": "2134ca48-ba3f-4282-be3d-b5a430044ae8"
      },
      "execution_count": null,
      "outputs": [
        {
          "output_type": "execute_result",
          "data": {
            "text/plain": [
              "                  label                       text\n",
              "195          healthcare    Clinical Nurse Educator\n",
              "196  retail_hospitality  Entertainment Coordinator\n",
              "197               legal     Estate Planning Lawyer\n",
              "198          technology  Technical Program Manager\n",
              "199          healthcare             Oncology Nurse"
            ],
            "text/html": [
              "\n",
              "  <div id=\"df-29eac4d8-69e3-409f-9b36-219e78bf7901\" class=\"colab-df-container\">\n",
              "    <div>\n",
              "<style scoped>\n",
              "    .dataframe tbody tr th:only-of-type {\n",
              "        vertical-align: middle;\n",
              "    }\n",
              "\n",
              "    .dataframe tbody tr th {\n",
              "        vertical-align: top;\n",
              "    }\n",
              "\n",
              "    .dataframe thead th {\n",
              "        text-align: right;\n",
              "    }\n",
              "</style>\n",
              "<table border=\"1\" class=\"dataframe\">\n",
              "  <thead>\n",
              "    <tr style=\"text-align: right;\">\n",
              "      <th></th>\n",
              "      <th>label</th>\n",
              "      <th>text</th>\n",
              "    </tr>\n",
              "  </thead>\n",
              "  <tbody>\n",
              "    <tr>\n",
              "      <th>195</th>\n",
              "      <td>healthcare</td>\n",
              "      <td>Clinical Nurse Educator</td>\n",
              "    </tr>\n",
              "    <tr>\n",
              "      <th>196</th>\n",
              "      <td>retail_hospitality</td>\n",
              "      <td>Entertainment Coordinator</td>\n",
              "    </tr>\n",
              "    <tr>\n",
              "      <th>197</th>\n",
              "      <td>legal</td>\n",
              "      <td>Estate Planning Lawyer</td>\n",
              "    </tr>\n",
              "    <tr>\n",
              "      <th>198</th>\n",
              "      <td>technology</td>\n",
              "      <td>Technical Program Manager</td>\n",
              "    </tr>\n",
              "    <tr>\n",
              "      <th>199</th>\n",
              "      <td>healthcare</td>\n",
              "      <td>Oncology Nurse</td>\n",
              "    </tr>\n",
              "  </tbody>\n",
              "</table>\n",
              "</div>\n",
              "    <div class=\"colab-df-buttons\">\n",
              "\n",
              "  <div class=\"colab-df-container\">\n",
              "    <button class=\"colab-df-convert\" onclick=\"convertToInteractive('df-29eac4d8-69e3-409f-9b36-219e78bf7901')\"\n",
              "            title=\"Convert this dataframe to an interactive table.\"\n",
              "            style=\"display:none;\">\n",
              "\n",
              "  <svg xmlns=\"http://www.w3.org/2000/svg\" height=\"24px\" viewBox=\"0 -960 960 960\">\n",
              "    <path d=\"M120-120v-720h720v720H120Zm60-500h600v-160H180v160Zm220 220h160v-160H400v160Zm0 220h160v-160H400v160ZM180-400h160v-160H180v160Zm440 0h160v-160H620v160ZM180-180h160v-160H180v160Zm440 0h160v-160H620v160Z\"/>\n",
              "  </svg>\n",
              "    </button>\n",
              "\n",
              "  <style>\n",
              "    .colab-df-container {\n",
              "      display:flex;\n",
              "      gap: 12px;\n",
              "    }\n",
              "\n",
              "    .colab-df-convert {\n",
              "      background-color: #E8F0FE;\n",
              "      border: none;\n",
              "      border-radius: 50%;\n",
              "      cursor: pointer;\n",
              "      display: none;\n",
              "      fill: #1967D2;\n",
              "      height: 32px;\n",
              "      padding: 0 0 0 0;\n",
              "      width: 32px;\n",
              "    }\n",
              "\n",
              "    .colab-df-convert:hover {\n",
              "      background-color: #E2EBFA;\n",
              "      box-shadow: 0px 1px 2px rgba(60, 64, 67, 0.3), 0px 1px 3px 1px rgba(60, 64, 67, 0.15);\n",
              "      fill: #174EA6;\n",
              "    }\n",
              "\n",
              "    .colab-df-buttons div {\n",
              "      margin-bottom: 4px;\n",
              "    }\n",
              "\n",
              "    [theme=dark] .colab-df-convert {\n",
              "      background-color: #3B4455;\n",
              "      fill: #D2E3FC;\n",
              "    }\n",
              "\n",
              "    [theme=dark] .colab-df-convert:hover {\n",
              "      background-color: #434B5C;\n",
              "      box-shadow: 0px 1px 3px 1px rgba(0, 0, 0, 0.15);\n",
              "      filter: drop-shadow(0px 1px 2px rgba(0, 0, 0, 0.3));\n",
              "      fill: #FFFFFF;\n",
              "    }\n",
              "  </style>\n",
              "\n",
              "    <script>\n",
              "      const buttonEl =\n",
              "        document.querySelector('#df-29eac4d8-69e3-409f-9b36-219e78bf7901 button.colab-df-convert');\n",
              "      buttonEl.style.display =\n",
              "        google.colab.kernel.accessAllowed ? 'block' : 'none';\n",
              "\n",
              "      async function convertToInteractive(key) {\n",
              "        const element = document.querySelector('#df-29eac4d8-69e3-409f-9b36-219e78bf7901');\n",
              "        const dataTable =\n",
              "          await google.colab.kernel.invokeFunction('convertToInteractive',\n",
              "                                                    [key], {});\n",
              "        if (!dataTable) return;\n",
              "\n",
              "        const docLinkHtml = 'Like what you see? Visit the ' +\n",
              "          '<a target=\"_blank\" href=https://colab.research.google.com/notebooks/data_table.ipynb>data table notebook</a>'\n",
              "          + ' to learn more about interactive tables.';\n",
              "        element.innerHTML = '';\n",
              "        dataTable['output_type'] = 'display_data';\n",
              "        await google.colab.output.renderOutput(dataTable, element);\n",
              "        const docLink = document.createElement('div');\n",
              "        docLink.innerHTML = docLinkHtml;\n",
              "        element.appendChild(docLink);\n",
              "      }\n",
              "    </script>\n",
              "  </div>\n",
              "\n",
              "\n",
              "<div id=\"df-d5a283c5-cc95-48da-92c6-6b7a1ff85de4\">\n",
              "  <button class=\"colab-df-quickchart\" onclick=\"quickchart('df-d5a283c5-cc95-48da-92c6-6b7a1ff85de4')\"\n",
              "            title=\"Suggest charts\"\n",
              "            style=\"display:none;\">\n",
              "\n",
              "<svg xmlns=\"http://www.w3.org/2000/svg\" height=\"24px\"viewBox=\"0 0 24 24\"\n",
              "     width=\"24px\">\n",
              "    <g>\n",
              "        <path d=\"M19 3H5c-1.1 0-2 .9-2 2v14c0 1.1.9 2 2 2h14c1.1 0 2-.9 2-2V5c0-1.1-.9-2-2-2zM9 17H7v-7h2v7zm4 0h-2V7h2v10zm4 0h-2v-4h2v4z\"/>\n",
              "    </g>\n",
              "</svg>\n",
              "  </button>\n",
              "\n",
              "<style>\n",
              "  .colab-df-quickchart {\n",
              "      --bg-color: #E8F0FE;\n",
              "      --fill-color: #1967D2;\n",
              "      --hover-bg-color: #E2EBFA;\n",
              "      --hover-fill-color: #174EA6;\n",
              "      --disabled-fill-color: #AAA;\n",
              "      --disabled-bg-color: #DDD;\n",
              "  }\n",
              "\n",
              "  [theme=dark] .colab-df-quickchart {\n",
              "      --bg-color: #3B4455;\n",
              "      --fill-color: #D2E3FC;\n",
              "      --hover-bg-color: #434B5C;\n",
              "      --hover-fill-color: #FFFFFF;\n",
              "      --disabled-bg-color: #3B4455;\n",
              "      --disabled-fill-color: #666;\n",
              "  }\n",
              "\n",
              "  .colab-df-quickchart {\n",
              "    background-color: var(--bg-color);\n",
              "    border: none;\n",
              "    border-radius: 50%;\n",
              "    cursor: pointer;\n",
              "    display: none;\n",
              "    fill: var(--fill-color);\n",
              "    height: 32px;\n",
              "    padding: 0;\n",
              "    width: 32px;\n",
              "  }\n",
              "\n",
              "  .colab-df-quickchart:hover {\n",
              "    background-color: var(--hover-bg-color);\n",
              "    box-shadow: 0 1px 2px rgba(60, 64, 67, 0.3), 0 1px 3px 1px rgba(60, 64, 67, 0.15);\n",
              "    fill: var(--button-hover-fill-color);\n",
              "  }\n",
              "\n",
              "  .colab-df-quickchart-complete:disabled,\n",
              "  .colab-df-quickchart-complete:disabled:hover {\n",
              "    background-color: var(--disabled-bg-color);\n",
              "    fill: var(--disabled-fill-color);\n",
              "    box-shadow: none;\n",
              "  }\n",
              "\n",
              "  .colab-df-spinner {\n",
              "    border: 2px solid var(--fill-color);\n",
              "    border-color: transparent;\n",
              "    border-bottom-color: var(--fill-color);\n",
              "    animation:\n",
              "      spin 1s steps(1) infinite;\n",
              "  }\n",
              "\n",
              "  @keyframes spin {\n",
              "    0% {\n",
              "      border-color: transparent;\n",
              "      border-bottom-color: var(--fill-color);\n",
              "      border-left-color: var(--fill-color);\n",
              "    }\n",
              "    20% {\n",
              "      border-color: transparent;\n",
              "      border-left-color: var(--fill-color);\n",
              "      border-top-color: var(--fill-color);\n",
              "    }\n",
              "    30% {\n",
              "      border-color: transparent;\n",
              "      border-left-color: var(--fill-color);\n",
              "      border-top-color: var(--fill-color);\n",
              "      border-right-color: var(--fill-color);\n",
              "    }\n",
              "    40% {\n",
              "      border-color: transparent;\n",
              "      border-right-color: var(--fill-color);\n",
              "      border-top-color: var(--fill-color);\n",
              "    }\n",
              "    60% {\n",
              "      border-color: transparent;\n",
              "      border-right-color: var(--fill-color);\n",
              "    }\n",
              "    80% {\n",
              "      border-color: transparent;\n",
              "      border-right-color: var(--fill-color);\n",
              "      border-bottom-color: var(--fill-color);\n",
              "    }\n",
              "    90% {\n",
              "      border-color: transparent;\n",
              "      border-bottom-color: var(--fill-color);\n",
              "    }\n",
              "  }\n",
              "</style>\n",
              "\n",
              "  <script>\n",
              "    async function quickchart(key) {\n",
              "      const quickchartButtonEl =\n",
              "        document.querySelector('#' + key + ' button');\n",
              "      quickchartButtonEl.disabled = true;  // To prevent multiple clicks.\n",
              "      quickchartButtonEl.classList.add('colab-df-spinner');\n",
              "      try {\n",
              "        const charts = await google.colab.kernel.invokeFunction(\n",
              "            'suggestCharts', [key], {});\n",
              "      } catch (error) {\n",
              "        console.error('Error during call to suggestCharts:', error);\n",
              "      }\n",
              "      quickchartButtonEl.classList.remove('colab-df-spinner');\n",
              "      quickchartButtonEl.classList.add('colab-df-quickchart-complete');\n",
              "    }\n",
              "    (() => {\n",
              "      let quickchartButtonEl =\n",
              "        document.querySelector('#df-d5a283c5-cc95-48da-92c6-6b7a1ff85de4 button');\n",
              "      quickchartButtonEl.style.display =\n",
              "        google.colab.kernel.accessAllowed ? 'block' : 'none';\n",
              "    })();\n",
              "  </script>\n",
              "</div>\n",
              "    </div>\n",
              "  </div>\n"
            ],
            "application/vnd.google.colaboratory.intrinsic+json": {
              "type": "dataframe",
              "summary": "{\n  \"name\": \"test_df\",\n  \"rows\": 5,\n  \"fields\": [\n    {\n      \"column\": \"label\",\n      \"properties\": {\n        \"dtype\": \"string\",\n        \"num_unique_values\": 4,\n        \"samples\": [\n          \"retail_hospitality\",\n          \"technology\",\n          \"healthcare\"\n        ],\n        \"semantic_type\": \"\",\n        \"description\": \"\"\n      }\n    },\n    {\n      \"column\": \"text\",\n      \"properties\": {\n        \"dtype\": \"string\",\n        \"num_unique_values\": 5,\n        \"samples\": [\n          \"Entertainment Coordinator\",\n          \"Oncology Nurse\",\n          \"Estate Planning Lawyer\"\n        ],\n        \"semantic_type\": \"\",\n        \"description\": \"\"\n      }\n    }\n  ]\n}"
            }
          },
          "metadata": {},
          "execution_count": 7
        }
      ]
    },
    {
      "cell_type": "code",
      "source": [
        "test_df.describe()"
      ],
      "metadata": {
        "colab": {
          "base_uri": "https://localhost:8080/",
          "height": 174
        },
        "id": "IpNfWhsGgpUC",
        "outputId": "6e28ecfc-7c4c-4d0e-ea8a-9efc5b99f784"
      },
      "execution_count": null,
      "outputs": [
        {
          "output_type": "execute_result",
          "data": {
            "text/plain": [
              "            label                             text\n",
              "count         200                              200\n",
              "unique          8                              200\n",
              "top     education  Education Technology Specialist\n",
              "freq           36                                1"
            ],
            "text/html": [
              "\n",
              "  <div id=\"df-5934e3ee-f03a-49cb-997b-25cc3e48d8f7\" class=\"colab-df-container\">\n",
              "    <div>\n",
              "<style scoped>\n",
              "    .dataframe tbody tr th:only-of-type {\n",
              "        vertical-align: middle;\n",
              "    }\n",
              "\n",
              "    .dataframe tbody tr th {\n",
              "        vertical-align: top;\n",
              "    }\n",
              "\n",
              "    .dataframe thead th {\n",
              "        text-align: right;\n",
              "    }\n",
              "</style>\n",
              "<table border=\"1\" class=\"dataframe\">\n",
              "  <thead>\n",
              "    <tr style=\"text-align: right;\">\n",
              "      <th></th>\n",
              "      <th>label</th>\n",
              "      <th>text</th>\n",
              "    </tr>\n",
              "  </thead>\n",
              "  <tbody>\n",
              "    <tr>\n",
              "      <th>count</th>\n",
              "      <td>200</td>\n",
              "      <td>200</td>\n",
              "    </tr>\n",
              "    <tr>\n",
              "      <th>unique</th>\n",
              "      <td>8</td>\n",
              "      <td>200</td>\n",
              "    </tr>\n",
              "    <tr>\n",
              "      <th>top</th>\n",
              "      <td>education</td>\n",
              "      <td>Education Technology Specialist</td>\n",
              "    </tr>\n",
              "    <tr>\n",
              "      <th>freq</th>\n",
              "      <td>36</td>\n",
              "      <td>1</td>\n",
              "    </tr>\n",
              "  </tbody>\n",
              "</table>\n",
              "</div>\n",
              "    <div class=\"colab-df-buttons\">\n",
              "\n",
              "  <div class=\"colab-df-container\">\n",
              "    <button class=\"colab-df-convert\" onclick=\"convertToInteractive('df-5934e3ee-f03a-49cb-997b-25cc3e48d8f7')\"\n",
              "            title=\"Convert this dataframe to an interactive table.\"\n",
              "            style=\"display:none;\">\n",
              "\n",
              "  <svg xmlns=\"http://www.w3.org/2000/svg\" height=\"24px\" viewBox=\"0 -960 960 960\">\n",
              "    <path d=\"M120-120v-720h720v720H120Zm60-500h600v-160H180v160Zm220 220h160v-160H400v160Zm0 220h160v-160H400v160ZM180-400h160v-160H180v160Zm440 0h160v-160H620v160ZM180-180h160v-160H180v160Zm440 0h160v-160H620v160Z\"/>\n",
              "  </svg>\n",
              "    </button>\n",
              "\n",
              "  <style>\n",
              "    .colab-df-container {\n",
              "      display:flex;\n",
              "      gap: 12px;\n",
              "    }\n",
              "\n",
              "    .colab-df-convert {\n",
              "      background-color: #E8F0FE;\n",
              "      border: none;\n",
              "      border-radius: 50%;\n",
              "      cursor: pointer;\n",
              "      display: none;\n",
              "      fill: #1967D2;\n",
              "      height: 32px;\n",
              "      padding: 0 0 0 0;\n",
              "      width: 32px;\n",
              "    }\n",
              "\n",
              "    .colab-df-convert:hover {\n",
              "      background-color: #E2EBFA;\n",
              "      box-shadow: 0px 1px 2px rgba(60, 64, 67, 0.3), 0px 1px 3px 1px rgba(60, 64, 67, 0.15);\n",
              "      fill: #174EA6;\n",
              "    }\n",
              "\n",
              "    .colab-df-buttons div {\n",
              "      margin-bottom: 4px;\n",
              "    }\n",
              "\n",
              "    [theme=dark] .colab-df-convert {\n",
              "      background-color: #3B4455;\n",
              "      fill: #D2E3FC;\n",
              "    }\n",
              "\n",
              "    [theme=dark] .colab-df-convert:hover {\n",
              "      background-color: #434B5C;\n",
              "      box-shadow: 0px 1px 3px 1px rgba(0, 0, 0, 0.15);\n",
              "      filter: drop-shadow(0px 1px 2px rgba(0, 0, 0, 0.3));\n",
              "      fill: #FFFFFF;\n",
              "    }\n",
              "  </style>\n",
              "\n",
              "    <script>\n",
              "      const buttonEl =\n",
              "        document.querySelector('#df-5934e3ee-f03a-49cb-997b-25cc3e48d8f7 button.colab-df-convert');\n",
              "      buttonEl.style.display =\n",
              "        google.colab.kernel.accessAllowed ? 'block' : 'none';\n",
              "\n",
              "      async function convertToInteractive(key) {\n",
              "        const element = document.querySelector('#df-5934e3ee-f03a-49cb-997b-25cc3e48d8f7');\n",
              "        const dataTable =\n",
              "          await google.colab.kernel.invokeFunction('convertToInteractive',\n",
              "                                                    [key], {});\n",
              "        if (!dataTable) return;\n",
              "\n",
              "        const docLinkHtml = 'Like what you see? Visit the ' +\n",
              "          '<a target=\"_blank\" href=https://colab.research.google.com/notebooks/data_table.ipynb>data table notebook</a>'\n",
              "          + ' to learn more about interactive tables.';\n",
              "        element.innerHTML = '';\n",
              "        dataTable['output_type'] = 'display_data';\n",
              "        await google.colab.output.renderOutput(dataTable, element);\n",
              "        const docLink = document.createElement('div');\n",
              "        docLink.innerHTML = docLinkHtml;\n",
              "        element.appendChild(docLink);\n",
              "      }\n",
              "    </script>\n",
              "  </div>\n",
              "\n",
              "\n",
              "<div id=\"df-04576be5-1432-4cc7-b3dd-67c692be99c1\">\n",
              "  <button class=\"colab-df-quickchart\" onclick=\"quickchart('df-04576be5-1432-4cc7-b3dd-67c692be99c1')\"\n",
              "            title=\"Suggest charts\"\n",
              "            style=\"display:none;\">\n",
              "\n",
              "<svg xmlns=\"http://www.w3.org/2000/svg\" height=\"24px\"viewBox=\"0 0 24 24\"\n",
              "     width=\"24px\">\n",
              "    <g>\n",
              "        <path d=\"M19 3H5c-1.1 0-2 .9-2 2v14c0 1.1.9 2 2 2h14c1.1 0 2-.9 2-2V5c0-1.1-.9-2-2-2zM9 17H7v-7h2v7zm4 0h-2V7h2v10zm4 0h-2v-4h2v4z\"/>\n",
              "    </g>\n",
              "</svg>\n",
              "  </button>\n",
              "\n",
              "<style>\n",
              "  .colab-df-quickchart {\n",
              "      --bg-color: #E8F0FE;\n",
              "      --fill-color: #1967D2;\n",
              "      --hover-bg-color: #E2EBFA;\n",
              "      --hover-fill-color: #174EA6;\n",
              "      --disabled-fill-color: #AAA;\n",
              "      --disabled-bg-color: #DDD;\n",
              "  }\n",
              "\n",
              "  [theme=dark] .colab-df-quickchart {\n",
              "      --bg-color: #3B4455;\n",
              "      --fill-color: #D2E3FC;\n",
              "      --hover-bg-color: #434B5C;\n",
              "      --hover-fill-color: #FFFFFF;\n",
              "      --disabled-bg-color: #3B4455;\n",
              "      --disabled-fill-color: #666;\n",
              "  }\n",
              "\n",
              "  .colab-df-quickchart {\n",
              "    background-color: var(--bg-color);\n",
              "    border: none;\n",
              "    border-radius: 50%;\n",
              "    cursor: pointer;\n",
              "    display: none;\n",
              "    fill: var(--fill-color);\n",
              "    height: 32px;\n",
              "    padding: 0;\n",
              "    width: 32px;\n",
              "  }\n",
              "\n",
              "  .colab-df-quickchart:hover {\n",
              "    background-color: var(--hover-bg-color);\n",
              "    box-shadow: 0 1px 2px rgba(60, 64, 67, 0.3), 0 1px 3px 1px rgba(60, 64, 67, 0.15);\n",
              "    fill: var(--button-hover-fill-color);\n",
              "  }\n",
              "\n",
              "  .colab-df-quickchart-complete:disabled,\n",
              "  .colab-df-quickchart-complete:disabled:hover {\n",
              "    background-color: var(--disabled-bg-color);\n",
              "    fill: var(--disabled-fill-color);\n",
              "    box-shadow: none;\n",
              "  }\n",
              "\n",
              "  .colab-df-spinner {\n",
              "    border: 2px solid var(--fill-color);\n",
              "    border-color: transparent;\n",
              "    border-bottom-color: var(--fill-color);\n",
              "    animation:\n",
              "      spin 1s steps(1) infinite;\n",
              "  }\n",
              "\n",
              "  @keyframes spin {\n",
              "    0% {\n",
              "      border-color: transparent;\n",
              "      border-bottom-color: var(--fill-color);\n",
              "      border-left-color: var(--fill-color);\n",
              "    }\n",
              "    20% {\n",
              "      border-color: transparent;\n",
              "      border-left-color: var(--fill-color);\n",
              "      border-top-color: var(--fill-color);\n",
              "    }\n",
              "    30% {\n",
              "      border-color: transparent;\n",
              "      border-left-color: var(--fill-color);\n",
              "      border-top-color: var(--fill-color);\n",
              "      border-right-color: var(--fill-color);\n",
              "    }\n",
              "    40% {\n",
              "      border-color: transparent;\n",
              "      border-right-color: var(--fill-color);\n",
              "      border-top-color: var(--fill-color);\n",
              "    }\n",
              "    60% {\n",
              "      border-color: transparent;\n",
              "      border-right-color: var(--fill-color);\n",
              "    }\n",
              "    80% {\n",
              "      border-color: transparent;\n",
              "      border-right-color: var(--fill-color);\n",
              "      border-bottom-color: var(--fill-color);\n",
              "    }\n",
              "    90% {\n",
              "      border-color: transparent;\n",
              "      border-bottom-color: var(--fill-color);\n",
              "    }\n",
              "  }\n",
              "</style>\n",
              "\n",
              "  <script>\n",
              "    async function quickchart(key) {\n",
              "      const quickchartButtonEl =\n",
              "        document.querySelector('#' + key + ' button');\n",
              "      quickchartButtonEl.disabled = true;  // To prevent multiple clicks.\n",
              "      quickchartButtonEl.classList.add('colab-df-spinner');\n",
              "      try {\n",
              "        const charts = await google.colab.kernel.invokeFunction(\n",
              "            'suggestCharts', [key], {});\n",
              "      } catch (error) {\n",
              "        console.error('Error during call to suggestCharts:', error);\n",
              "      }\n",
              "      quickchartButtonEl.classList.remove('colab-df-spinner');\n",
              "      quickchartButtonEl.classList.add('colab-df-quickchart-complete');\n",
              "    }\n",
              "    (() => {\n",
              "      let quickchartButtonEl =\n",
              "        document.querySelector('#df-04576be5-1432-4cc7-b3dd-67c692be99c1 button');\n",
              "      quickchartButtonEl.style.display =\n",
              "        google.colab.kernel.accessAllowed ? 'block' : 'none';\n",
              "    })();\n",
              "  </script>\n",
              "</div>\n",
              "    </div>\n",
              "  </div>\n"
            ],
            "application/vnd.google.colaboratory.intrinsic+json": {
              "type": "dataframe",
              "summary": "{\n  \"name\": \"test_df\",\n  \"rows\": 4,\n  \"fields\": [\n    {\n      \"column\": \"label\",\n      \"properties\": {\n        \"dtype\": \"string\",\n        \"num_unique_values\": 4,\n        \"samples\": [\n          8,\n          \"36\",\n          \"200\"\n        ],\n        \"semantic_type\": \"\",\n        \"description\": \"\"\n      }\n    },\n    {\n      \"column\": \"text\",\n      \"properties\": {\n        \"dtype\": \"string\",\n        \"num_unique_values\": 3,\n        \"samples\": [\n          \"200\",\n          \"Education Technology Specialist\",\n          \"1\"\n        ],\n        \"semantic_type\": \"\",\n        \"description\": \"\"\n      }\n    }\n  ]\n}"
            }
          },
          "metadata": {},
          "execution_count": 8
        }
      ]
    },
    {
      "cell_type": "code",
      "source": [
        "#hide\n",
        "## show unique labels to ensure no typos or missing categories\n",
        "unique_labels = test_df['label'].unique()\n",
        "label_counts = test_df['label'].value_counts()\n",
        "## print(\"Label Counts:\", label_counts)\n",
        "## print(\"Unique Labels:\", unique_labels)\n",
        "\n",
        "unique_labels_list = unique_labels.tolist()\n",
        "print(\"Label Counts List:\", unique_labels_list)"
      ],
      "metadata": {
        "colab": {
          "base_uri": "https://localhost:8080/"
        },
        "id": "vWQQsWh0gqlr",
        "outputId": "a1d2964f-898d-4f90-d317-e6692fd6df61"
      },
      "execution_count": null,
      "outputs": [
        {
          "output_type": "stream",
          "name": "stdout",
          "text": [
            "Label Counts List: ['education', 'technology', 'retail_hospitality', 'marketing_advertising', 'drama_arts', 'legal', 'healthcare', 'finance']\n"
          ]
        }
      ]
    },
    {
      "cell_type": "markdown",
      "source": [
        "## Prompts and common parameters"
      ],
      "metadata": {
        "id": "GVAHH6buiNzf"
      }
    },
    {
      "cell_type": "markdown",
      "source": [
        "### Prompts"
      ],
      "metadata": {
        "id": "90VdbbdLHCaP"
      }
    },
    {
      "cell_type": "markdown",
      "source": [
        "Here we will define some universal prompt variables. Many of these APIs support both a system and user prompt.\n",
        "\n",
        "System Prompt:\n",
        "- The system prompt is the initial text provided to the model by the API user. It sets the context or direction for the subsequent text generation. Think of it as a broad description of the scene/job to be done by the model.\n",
        "- The system prompt can be a question, a statement, or any text that provides context for the response.\n",
        "- The quality and relevance of the system prompt can significantly influence the coherence and accuracy of the generated response.\n",
        "\n",
        "User Prompt:\n",
        "- The user prompt is a specific instruction or query provided by the end-user, typically through an interface or application that utilizes the API.\n",
        "- It's the input from the user that triggers the generation of text from the AI model based on the context provided in the system prompt.\n",
        "- User prompts guide the AI model on what specific information or response the user is seeking.\n",
        "- They can vary widely depending on the application, ranging from simple questions to more complex requests or commands.\n",
        "\n",
        "Remember that most of these models charge users on a per token basis so the longer the system and user prompts are, the more tokens input to the model. Finding a balance between providing enough context and excessive resource spending is important when working with limited resources. Longer input tokens also add time to process."
      ],
      "metadata": {
        "id": "5KhmDQ3yiRNP"
      }
    },
    {
      "cell_type": "markdown",
      "source": [
        "Our system prompt tells the model what the general purpose of the incoming prompts will be about. We are asking the model to categorize items in a specific domain."
      ],
      "metadata": {
        "id": "SQnIapGQNyY0"
      }
    },
    {
      "cell_type": "code",
      "source": [
        "system_prompt = \"You are a helpful assistant that categorizes job titles by industry.\""
      ],
      "metadata": {
        "id": "nt2WqafobJBu"
      },
      "execution_count": null,
      "outputs": []
    },
    {
      "cell_type": "markdown",
      "source": [
        "One of the best ways to provide context to the models is by giving examples of the inputs and expected outputs. This is often referred to as \"Few-shot\" prompting. This user prompt provides a specific request as well as two thorough examples with inputs and outputs in the requested format of a json dictionary key:value pair. It then provides a final input using the variables we will be submitting via the API request."
      ],
      "metadata": {
        "id": "zfOjbzasj09K"
      }
    },
    {
      "cell_type": "code",
      "source": [
        "## function to create user prompt given the input text and the existing list of topics\n",
        "def create_user_prompt(topics_list, input_text):\n",
        "\n",
        "    user_prompt = f\"\"\"I'd like you to assist me in relating a job title from an input text to an existing list of industries and return a dictionary with a key-value pair. The \"key\" will be equal to the input text and the \"value\" will be equal to the existing topic that the input text is most closely related to.\n",
        "\n",
        "    Example:\n",
        "    Existing Topics:\n",
        "    ['education', 'technology', 'retail_hospitality', 'marketing_advertising', 'drama_arts', 'legal', 'healthcare', 'finance']\n",
        "    Input Text:\n",
        "    'Spa Operations Manager'\n",
        "    Response:{{\"Spa Operations Manager\":\"retail_hospitality\"}}\n",
        "\n",
        "    Example:\n",
        "    Existing Topics:\n",
        "    ['education', 'technology', 'retail_hospitality', 'marketing_advertising', 'drama_arts', 'legal', 'healthcare', 'finance']\n",
        "    Input Text:\n",
        "    'Clinical Nurse Educator'\n",
        "    Response:{{\"Clinical Nurse Educator\":\"healthcare\"}}\n",
        "\n",
        "    Existing Topics:\n",
        "    {topics_list}\n",
        "    Input Text:\n",
        "    {input_text}\n",
        "    Response:\n",
        "    \"\"\"\n",
        "\n",
        "    return user_prompt"
      ],
      "metadata": {
        "id": "m4T2j9yKheSN"
      },
      "execution_count": null,
      "outputs": []
    },
    {
      "cell_type": "markdown",
      "source": [
        "### Parameters"
      ],
      "metadata": {
        "id": "aReW8lTiHFZN"
      }
    },
    {
      "cell_type": "markdown",
      "source": [
        "Many of these models allow users to specify parameters to adjust the performance of the model and tune the output to their liking. Here we will discuss many of the common parameters and later on, will see some of the more relevent options in practice."
      ],
      "metadata": {
        "id": "B-xcgCu_GcAk"
      }
    },
    {
      "cell_type": "markdown",
      "source": [
        "*Fine-tuning:* Similarly to assistants and agents, we will not explore fine-tuning in this study but it is important to discuss. This works similarly to how we fine-tuned models in the previous studies. Users can submit data and fine-tune a model before attempting their task. This saves costs by allowing for less examples in the prompt, but requires time and effort to setup. OpenAI's GPT series and Google's Gemini Pro have the option to fine tune a model.\n",
        "\n",
        "*Functions*, or *tools* is a parameter in the API which can be used to provide function specifications. When included, it enables models to generate function arguments, but is not required unless specified. OpenAI, Google and Anthropic include function capabilities.\n",
        "\n",
        "Here is a helpful article regarding how function calling works: https://cookbook.openai.com/examples/how_to_call_functions_with_chat_models\n",
        "\n",
        "*Temperature:* influences the creativity and diversity of the model response. A higher temperature may provide the model more freedom to explore word choices, but the generated response may end up being incorrect or irrelevant.\n",
        "\n",
        "*max_tokens:* limit the tokens of the output to save resources and avoid lengthy responses\n",
        "\n",
        "*top_p:* Specifies the cumulative probability threshold for tokens considered in the next token generation. Lower values allow the model to consider a wider range of options, even those with lower probabilities. This can lead to more diverse and surprising text. Higher values restrict the model to consider only the most probable tokens, resulting in more fluent but less diverse text.\n",
        "\n",
        "*top_k*: Specifies the maximum number of tokens (words) to consider when generating the next token in a sequence.\n",
        "\n",
        "*response_mime_type or response_format:* setting this to JSON ensures a formatted output.\n",
        "\n",
        "*candidate_count*, *n:* The maximum number of generated response messages to return. This could be an interesting way to see what the top predictions are but would require user oversight to correct any errors.\n",
        "\n",
        "*frequency penalty:* Positive values penalize new tokens based on their existing frequency in the text so far, decreasing the model's likelihood to repeat the same line verbatim.\n",
        "\n",
        "*presence penalty:* Positive values penalize new tokens based on whether they appear in the text so far, increasing the model's likelihood to talk about new topics."
      ],
      "metadata": {
        "id": "-0fgc_o-GvIP"
      }
    },
    {
      "cell_type": "markdown",
      "source": [
        "## OpenAI"
      ],
      "metadata": {
        "id": "gdOZhJW8cl7E"
      }
    },
    {
      "cell_type": "markdown",
      "source": [
        "First up, from the company that built ChatGPT, we will checkout the GPT series. GPT has tons of models available for a variety of tasks. In this study, we will compare the popular GPT-3 and GPT-4 chat completion models. All models through OpenAI are paid for use on a per token basis, but GPT-3 is much cheaper than GPT-4 and has higher limit rates."
      ],
      "metadata": {
        "id": "nBBCBtWuco4v"
      }
    },
    {
      "cell_type": "code",
      "execution_count": null,
      "metadata": {
        "id": "UkcrLf28ZIVo"
      },
      "outputs": [],
      "source": [
        "openai.api_key = openai_api_key\n",
        "client = OpenAI(api_key=openai_api_key)"
      ]
    },
    {
      "cell_type": "code",
      "source": [
        "## select a model from OpenAI's offerings\n",
        "#model = 'gpt-3.5-turbo'\n",
        "model = 'gpt-4-0613'"
      ],
      "metadata": {
        "id": "BiRyF30MhaCQ"
      },
      "execution_count": null,
      "outputs": []
    },
    {
      "cell_type": "markdown",
      "source": [
        "Here is our function for making an API call. Some additional parameters that GPT supports are temperature and functions, or tools.\n"
      ],
      "metadata": {
        "id": "qJsZFtwekTVy"
      }
    },
    {
      "cell_type": "code",
      "source": [
        "## function for making GPT API call\n",
        "def gpt_call(user_prompt,system_prompt,model,tools,tool_choice):\n",
        "    response = client.chat.completions.create(\n",
        "        model=model,\n",
        "        messages=[\n",
        "            {\"role\": \"system\", \"content\": system_prompt},\n",
        "            {\"role\":\"user\",\"content\": user_prompt}\n",
        "            ],\n",
        "            temperature=0.5,\n",
        "            tools=tools,\n",
        "            tool_choice=tool_choice\n",
        "            )\n",
        "    return response"
      ],
      "metadata": {
        "id": "sf7-MkLV51Xj"
      },
      "execution_count": null,
      "outputs": []
    },
    {
      "cell_type": "markdown",
      "source": [
        "Here is where we use a function, or tool, to ensure the output format to be a key:value pair. We want GPT to return the output as specified in the user prompt above. In order to do this, we tell GPT to use this function, which requires data to be in a structured format instead of regular (and inconsistent) text. Now when we parse the output data, we have a consistent and workable structure, removing potential formatting errors."
      ],
      "metadata": {
        "id": "dkjoEGJJlTUG"
      }
    },
    {
      "cell_type": "code",
      "source": [
        "## Define the function\n",
        "tools = [\n",
        "    {   \"type\":\"function\",\n",
        "        \"function\": {\n",
        "            \"name\": \"generate_dictionary\",\n",
        "            \"description\": \"Generate a dictionary with 'key' equal to the input text value and 'value' equal to the matching topic from the existing list.\",\n",
        "            \"parameters\": {\n",
        "                \"type\": \"object\",\n",
        "                \"properties\": {\n",
        "                    \"key\": {\n",
        "                        \"type\": \"string\",\n",
        "                        \"description\": \"The input text.\"\n",
        "                    },\n",
        "                    \"value\": {\n",
        "                        \"type\": \"string\",\n",
        "                        \"description\": \"The matching topic from the existing list of topics.\"\n",
        "                    }\n",
        "                }\n",
        "            }\n",
        "        }\n",
        "    }\n",
        "]\n",
        "\n",
        "tool_choice={\"type\": \"function\", \"function\": {\"name\": \"generate_dictionary\"}}"
      ],
      "metadata": {
        "id": "ZsyUGSODZ1V5"
      },
      "execution_count": null,
      "outputs": []
    },
    {
      "cell_type": "code",
      "source": [
        "## set the predictions df so that we can calculate accuracy\n",
        "gpt_preds_df = test_df.copy()"
      ],
      "metadata": {
        "id": "p1NADolz3JLh"
      },
      "execution_count": null,
      "outputs": []
    },
    {
      "cell_type": "markdown",
      "source": [
        "Finally we loop through the test data and add the GPT output to a new prediction label column. We then measure the accuracy. The code for GPT-4 and GPT-3.5 is the same, users just need to change the \"model\" choice previously defined. We will show sample output from our GPT-4 test."
      ],
      "metadata": {
        "id": "K5u8vqVl-nSc"
      }
    },
    {
      "cell_type": "code",
      "source": [
        "## GPT-4 Loop\n",
        "tracker_list = []\n",
        "## loop through the text column in the test_df\n",
        "for i, text in enumerate(gpt_preds_df['text']):\n",
        "    print(\"Text Item: \", text)\n",
        "    ## use a while loop to run the loop continuously until a valid response is obtained from GPT\n",
        "    ## BE CAREFUL! You may want to add a max_n argument to ensure that you're not running the model over and over againg while racking up a large bill\n",
        "    ## You can also implement spending limits in your OpenAI account\n",
        "    while True:\n",
        "        try:\n",
        "            ## run the user_prompt function, inputting the categories and the text item to be categorized\n",
        "            user_prompt = create_user_prompt(unique_labels_list, text)\n",
        "            ## run the gpt_call function and return the response\n",
        "            response = gpt_call(user_prompt=user_prompt,system_prompt=system_prompt,model=model,tools=tools,tool_choice=tool_choice)\n",
        "            ## parse the response data and print the output (prediction)\n",
        "            gpt_output = response.choices[0].message\n",
        "            print(\"GPT Output: \", gpt_output)\n",
        "            ## set the key:value pair based on the GPT output\n",
        "            gpt_key = json.loads(gpt_output.tool_calls[0].function.arguments).get(\"key\")\n",
        "            gpt_value = json.loads(gpt_output.tool_calls[0].function.arguments).get(\"value\")\n",
        "            tracker = {gpt_key: gpt_value}\n",
        "            print(\"Dict Output: \", tracker)\n",
        "            ## if the output value is not blank, append the dictionary to the final list and exit the while loop\n",
        "            ## Check if both key and value have values\n",
        "            if gpt_key is not None and gpt_value is not None and gpt_value != '':\n",
        "                ## Append the dictionary to the final list\n",
        "                tracker_list.append(tracker)\n",
        "                ## Update gpt_preds_df with the gpt_value\n",
        "                gpt_preds_df.at[i, 'predicted_label'] = gpt_value\n",
        "                break  ## Exit the while loop\n",
        "\n",
        "        ## GPT restricts users by setting a rate limit. If a RateLimitError occurs, pause for a minute and continue\n",
        "        except Exception as e:\n",
        "            print(f\"An error occurred: {e}\")\n",
        "            if \"Rate limit exceeded\" in str(e):\n",
        "                print(f\"Rate limit exceeded. Waiting for 60 seconds to retry\")\n",
        "                time.sleep(60)\n",
        "            else:\n",
        "                break  ## Exit the loop for other exceptions\n",
        "\n",
        "print(tracker_list)"
      ],
      "metadata": {
        "id": "7dF0CEC3uIP9",
        "collapsed": true
      },
      "execution_count": null,
      "outputs": []
    },
    {
      "cell_type": "markdown",
      "source": [
        "Since we are requesting responses for a list of 200 items, the printed output is too lengthy to include in this notebook. A sample of one run through the loop is provided but the final predictions can be found in the associated predictions csv file.\n",
        "\n",
        "Sample Output:\n",
        "\n",
        "\"Text Item:  Education Technology Specialist\n",
        "\n",
        "GPT Output:  ChatCompletionMessage(content=None, role='assistant', function_call=None, tool_calls=[ChatCompletionMessageToolCall(id='call_Yhy8LQ5tElVfEag2TxdSoDPH', function=Function(arguments='{\\n  \"key\": \"Education Technology Specialist\",\\n  \"value\": \"education\"\\n}', name='generate_dictionary'), type='function')])\n",
        "\n",
        "Dict Output:  {'Education Technology Specialist': 'education'}\""
      ],
      "metadata": {
        "id": "Wpmgw3Tp9FFY"
      }
    },
    {
      "cell_type": "markdown",
      "source": [
        "Here we will load in our predictions dataframe that was created when the previous cell was run. This step is not necessary if the previous loop was run in the current session. It takes a while to loop through the entire test data and can also be costly, so to save resources we will load a previosuly created predictions dataframe to test the accuracy in this notebook."
      ],
      "metadata": {
        "id": "3yWrYxny3VWb"
      }
    },
    {
      "cell_type": "code",
      "source": [
        "## load in the previously created predictions dataframe\n",
        "gpt_preds_df = pd.read_csv('predictions_gpt4.csv')"
      ],
      "metadata": {
        "id": "5zwM1hxY3FQc"
      },
      "execution_count": null,
      "outputs": []
    },
    {
      "cell_type": "markdown",
      "source": [
        "Let's see how GPT performed. First let's check the unique labels in the predictions column of our dataset. GPT should have only output options from the original list of 8."
      ],
      "metadata": {
        "id": "JxazVuyWk0gC"
      }
    },
    {
      "cell_type": "code",
      "source": [
        "unique_labels = gpt_preds_df['predicted_label'].unique()\n",
        "unique_labels_list = unique_labels.tolist()\n",
        "print(\"Label Counts List:\", unique_labels_list)"
      ],
      "metadata": {
        "colab": {
          "base_uri": "https://localhost:8080/"
        },
        "id": "RnlYaofrkqz1",
        "outputId": "7d5d4583-8abe-48e1-f32f-a26035ee4d3d"
      },
      "execution_count": null,
      "outputs": [
        {
          "output_type": "stream",
          "name": "stdout",
          "text": [
            "Label Counts List: ['education', 'technology', 'retail_hospitality', 'legal', 'drama_arts', 'marketing_advertising', 'healthcare', 'finance', 'management']\n"
          ]
        }
      ]
    },
    {
      "cell_type": "markdown",
      "source": [
        "We can see GPT created an extra label called \"management\". This is one of the problems with these LLM models, they do not always stay within the bounds. Lowering temperature to decrease creativity helps with this issue. Here we have set temperature to 0.5 on a scale from 0 to 2.0. Interestingly enough, only GPT-4 created this new category. GPT-3.5 mislabeled the same item but chose an existing category."
      ],
      "metadata": {
        "id": "Gq7ZmCPalNHa"
      }
    },
    {
      "cell_type": "markdown",
      "source": [
        "Here is our function for measuring accuracy"
      ],
      "metadata": {
        "id": "HpVaNj0HPxRz"
      }
    },
    {
      "cell_type": "code",
      "source": [
        "def test_set_accuracy(test_df):\n",
        "  ## simple accuracy calc using pandas - TRUE/FALSE evaluates to 1/0 when using .mean()\n",
        "  ## so taking average is a handy shortcut for calculating accuracy\n",
        "  accuracy = (test_df['predicted_label'] == test_df['label']).mean()\n",
        "  print(f\"Accuracy: {accuracy}\")"
      ],
      "metadata": {
        "id": "jBlnePUp2Nsq"
      },
      "execution_count": null,
      "outputs": []
    },
    {
      "cell_type": "code",
      "source": [
        "gpt_preds_df.head()"
      ],
      "metadata": {
        "colab": {
          "base_uri": "https://localhost:8080/",
          "height": 206
        },
        "id": "EgFirKlU_kM0",
        "outputId": "25a932be-e490-4125-d3cd-ac4c82935334"
      },
      "execution_count": null,
      "outputs": [
        {
          "output_type": "execute_result",
          "data": {
            "text/plain": [
              "                   label                             text     predicted_label\n",
              "0              education  Education Technology Specialist           education\n",
              "1             technology        Incident Response Analyst          technology\n",
              "2     retail_hospitality           Spa Operations Manager  retail_hospitality\n",
              "3  marketing_advertising                     Data Analyst          technology\n",
              "4             drama_arts                   Hair Assistant  retail_hospitality"
            ],
            "text/html": [
              "\n",
              "  <div id=\"df-7f67cd06-fb8e-4a35-8a02-4948ee0d9c46\" class=\"colab-df-container\">\n",
              "    <div>\n",
              "<style scoped>\n",
              "    .dataframe tbody tr th:only-of-type {\n",
              "        vertical-align: middle;\n",
              "    }\n",
              "\n",
              "    .dataframe tbody tr th {\n",
              "        vertical-align: top;\n",
              "    }\n",
              "\n",
              "    .dataframe thead th {\n",
              "        text-align: right;\n",
              "    }\n",
              "</style>\n",
              "<table border=\"1\" class=\"dataframe\">\n",
              "  <thead>\n",
              "    <tr style=\"text-align: right;\">\n",
              "      <th></th>\n",
              "      <th>label</th>\n",
              "      <th>text</th>\n",
              "      <th>predicted_label</th>\n",
              "    </tr>\n",
              "  </thead>\n",
              "  <tbody>\n",
              "    <tr>\n",
              "      <th>0</th>\n",
              "      <td>education</td>\n",
              "      <td>Education Technology Specialist</td>\n",
              "      <td>education</td>\n",
              "    </tr>\n",
              "    <tr>\n",
              "      <th>1</th>\n",
              "      <td>technology</td>\n",
              "      <td>Incident Response Analyst</td>\n",
              "      <td>technology</td>\n",
              "    </tr>\n",
              "    <tr>\n",
              "      <th>2</th>\n",
              "      <td>retail_hospitality</td>\n",
              "      <td>Spa Operations Manager</td>\n",
              "      <td>retail_hospitality</td>\n",
              "    </tr>\n",
              "    <tr>\n",
              "      <th>3</th>\n",
              "      <td>marketing_advertising</td>\n",
              "      <td>Data Analyst</td>\n",
              "      <td>technology</td>\n",
              "    </tr>\n",
              "    <tr>\n",
              "      <th>4</th>\n",
              "      <td>drama_arts</td>\n",
              "      <td>Hair Assistant</td>\n",
              "      <td>retail_hospitality</td>\n",
              "    </tr>\n",
              "  </tbody>\n",
              "</table>\n",
              "</div>\n",
              "    <div class=\"colab-df-buttons\">\n",
              "\n",
              "  <div class=\"colab-df-container\">\n",
              "    <button class=\"colab-df-convert\" onclick=\"convertToInteractive('df-7f67cd06-fb8e-4a35-8a02-4948ee0d9c46')\"\n",
              "            title=\"Convert this dataframe to an interactive table.\"\n",
              "            style=\"display:none;\">\n",
              "\n",
              "  <svg xmlns=\"http://www.w3.org/2000/svg\" height=\"24px\" viewBox=\"0 -960 960 960\">\n",
              "    <path d=\"M120-120v-720h720v720H120Zm60-500h600v-160H180v160Zm220 220h160v-160H400v160Zm0 220h160v-160H400v160ZM180-400h160v-160H180v160Zm440 0h160v-160H620v160ZM180-180h160v-160H180v160Zm440 0h160v-160H620v160Z\"/>\n",
              "  </svg>\n",
              "    </button>\n",
              "\n",
              "  <style>\n",
              "    .colab-df-container {\n",
              "      display:flex;\n",
              "      gap: 12px;\n",
              "    }\n",
              "\n",
              "    .colab-df-convert {\n",
              "      background-color: #E8F0FE;\n",
              "      border: none;\n",
              "      border-radius: 50%;\n",
              "      cursor: pointer;\n",
              "      display: none;\n",
              "      fill: #1967D2;\n",
              "      height: 32px;\n",
              "      padding: 0 0 0 0;\n",
              "      width: 32px;\n",
              "    }\n",
              "\n",
              "    .colab-df-convert:hover {\n",
              "      background-color: #E2EBFA;\n",
              "      box-shadow: 0px 1px 2px rgba(60, 64, 67, 0.3), 0px 1px 3px 1px rgba(60, 64, 67, 0.15);\n",
              "      fill: #174EA6;\n",
              "    }\n",
              "\n",
              "    .colab-df-buttons div {\n",
              "      margin-bottom: 4px;\n",
              "    }\n",
              "\n",
              "    [theme=dark] .colab-df-convert {\n",
              "      background-color: #3B4455;\n",
              "      fill: #D2E3FC;\n",
              "    }\n",
              "\n",
              "    [theme=dark] .colab-df-convert:hover {\n",
              "      background-color: #434B5C;\n",
              "      box-shadow: 0px 1px 3px 1px rgba(0, 0, 0, 0.15);\n",
              "      filter: drop-shadow(0px 1px 2px rgba(0, 0, 0, 0.3));\n",
              "      fill: #FFFFFF;\n",
              "    }\n",
              "  </style>\n",
              "\n",
              "    <script>\n",
              "      const buttonEl =\n",
              "        document.querySelector('#df-7f67cd06-fb8e-4a35-8a02-4948ee0d9c46 button.colab-df-convert');\n",
              "      buttonEl.style.display =\n",
              "        google.colab.kernel.accessAllowed ? 'block' : 'none';\n",
              "\n",
              "      async function convertToInteractive(key) {\n",
              "        const element = document.querySelector('#df-7f67cd06-fb8e-4a35-8a02-4948ee0d9c46');\n",
              "        const dataTable =\n",
              "          await google.colab.kernel.invokeFunction('convertToInteractive',\n",
              "                                                    [key], {});\n",
              "        if (!dataTable) return;\n",
              "\n",
              "        const docLinkHtml = 'Like what you see? Visit the ' +\n",
              "          '<a target=\"_blank\" href=https://colab.research.google.com/notebooks/data_table.ipynb>data table notebook</a>'\n",
              "          + ' to learn more about interactive tables.';\n",
              "        element.innerHTML = '';\n",
              "        dataTable['output_type'] = 'display_data';\n",
              "        await google.colab.output.renderOutput(dataTable, element);\n",
              "        const docLink = document.createElement('div');\n",
              "        docLink.innerHTML = docLinkHtml;\n",
              "        element.appendChild(docLink);\n",
              "      }\n",
              "    </script>\n",
              "  </div>\n",
              "\n",
              "\n",
              "<div id=\"df-e1dc6185-bf9b-431d-a877-7175787bf72d\">\n",
              "  <button class=\"colab-df-quickchart\" onclick=\"quickchart('df-e1dc6185-bf9b-431d-a877-7175787bf72d')\"\n",
              "            title=\"Suggest charts\"\n",
              "            style=\"display:none;\">\n",
              "\n",
              "<svg xmlns=\"http://www.w3.org/2000/svg\" height=\"24px\"viewBox=\"0 0 24 24\"\n",
              "     width=\"24px\">\n",
              "    <g>\n",
              "        <path d=\"M19 3H5c-1.1 0-2 .9-2 2v14c0 1.1.9 2 2 2h14c1.1 0 2-.9 2-2V5c0-1.1-.9-2-2-2zM9 17H7v-7h2v7zm4 0h-2V7h2v10zm4 0h-2v-4h2v4z\"/>\n",
              "    </g>\n",
              "</svg>\n",
              "  </button>\n",
              "\n",
              "<style>\n",
              "  .colab-df-quickchart {\n",
              "      --bg-color: #E8F0FE;\n",
              "      --fill-color: #1967D2;\n",
              "      --hover-bg-color: #E2EBFA;\n",
              "      --hover-fill-color: #174EA6;\n",
              "      --disabled-fill-color: #AAA;\n",
              "      --disabled-bg-color: #DDD;\n",
              "  }\n",
              "\n",
              "  [theme=dark] .colab-df-quickchart {\n",
              "      --bg-color: #3B4455;\n",
              "      --fill-color: #D2E3FC;\n",
              "      --hover-bg-color: #434B5C;\n",
              "      --hover-fill-color: #FFFFFF;\n",
              "      --disabled-bg-color: #3B4455;\n",
              "      --disabled-fill-color: #666;\n",
              "  }\n",
              "\n",
              "  .colab-df-quickchart {\n",
              "    background-color: var(--bg-color);\n",
              "    border: none;\n",
              "    border-radius: 50%;\n",
              "    cursor: pointer;\n",
              "    display: none;\n",
              "    fill: var(--fill-color);\n",
              "    height: 32px;\n",
              "    padding: 0;\n",
              "    width: 32px;\n",
              "  }\n",
              "\n",
              "  .colab-df-quickchart:hover {\n",
              "    background-color: var(--hover-bg-color);\n",
              "    box-shadow: 0 1px 2px rgba(60, 64, 67, 0.3), 0 1px 3px 1px rgba(60, 64, 67, 0.15);\n",
              "    fill: var(--button-hover-fill-color);\n",
              "  }\n",
              "\n",
              "  .colab-df-quickchart-complete:disabled,\n",
              "  .colab-df-quickchart-complete:disabled:hover {\n",
              "    background-color: var(--disabled-bg-color);\n",
              "    fill: var(--disabled-fill-color);\n",
              "    box-shadow: none;\n",
              "  }\n",
              "\n",
              "  .colab-df-spinner {\n",
              "    border: 2px solid var(--fill-color);\n",
              "    border-color: transparent;\n",
              "    border-bottom-color: var(--fill-color);\n",
              "    animation:\n",
              "      spin 1s steps(1) infinite;\n",
              "  }\n",
              "\n",
              "  @keyframes spin {\n",
              "    0% {\n",
              "      border-color: transparent;\n",
              "      border-bottom-color: var(--fill-color);\n",
              "      border-left-color: var(--fill-color);\n",
              "    }\n",
              "    20% {\n",
              "      border-color: transparent;\n",
              "      border-left-color: var(--fill-color);\n",
              "      border-top-color: var(--fill-color);\n",
              "    }\n",
              "    30% {\n",
              "      border-color: transparent;\n",
              "      border-left-color: var(--fill-color);\n",
              "      border-top-color: var(--fill-color);\n",
              "      border-right-color: var(--fill-color);\n",
              "    }\n",
              "    40% {\n",
              "      border-color: transparent;\n",
              "      border-right-color: var(--fill-color);\n",
              "      border-top-color: var(--fill-color);\n",
              "    }\n",
              "    60% {\n",
              "      border-color: transparent;\n",
              "      border-right-color: var(--fill-color);\n",
              "    }\n",
              "    80% {\n",
              "      border-color: transparent;\n",
              "      border-right-color: var(--fill-color);\n",
              "      border-bottom-color: var(--fill-color);\n",
              "    }\n",
              "    90% {\n",
              "      border-color: transparent;\n",
              "      border-bottom-color: var(--fill-color);\n",
              "    }\n",
              "  }\n",
              "</style>\n",
              "\n",
              "  <script>\n",
              "    async function quickchart(key) {\n",
              "      const quickchartButtonEl =\n",
              "        document.querySelector('#' + key + ' button');\n",
              "      quickchartButtonEl.disabled = true;  // To prevent multiple clicks.\n",
              "      quickchartButtonEl.classList.add('colab-df-spinner');\n",
              "      try {\n",
              "        const charts = await google.colab.kernel.invokeFunction(\n",
              "            'suggestCharts', [key], {});\n",
              "      } catch (error) {\n",
              "        console.error('Error during call to suggestCharts:', error);\n",
              "      }\n",
              "      quickchartButtonEl.classList.remove('colab-df-spinner');\n",
              "      quickchartButtonEl.classList.add('colab-df-quickchart-complete');\n",
              "    }\n",
              "    (() => {\n",
              "      let quickchartButtonEl =\n",
              "        document.querySelector('#df-e1dc6185-bf9b-431d-a877-7175787bf72d button');\n",
              "      quickchartButtonEl.style.display =\n",
              "        google.colab.kernel.accessAllowed ? 'block' : 'none';\n",
              "    })();\n",
              "  </script>\n",
              "</div>\n",
              "    </div>\n",
              "  </div>\n"
            ],
            "application/vnd.google.colaboratory.intrinsic+json": {
              "type": "dataframe",
              "variable_name": "gpt_preds_df",
              "summary": "{\n  \"name\": \"gpt_preds_df\",\n  \"rows\": 200,\n  \"fields\": [\n    {\n      \"column\": \"label\",\n      \"properties\": {\n        \"dtype\": \"category\",\n        \"num_unique_values\": 8,\n        \"samples\": [\n          \"technology\",\n          \"legal\",\n          \"education\"\n        ],\n        \"semantic_type\": \"\",\n        \"description\": \"\"\n      }\n    },\n    {\n      \"column\": \"text\",\n      \"properties\": {\n        \"dtype\": \"string\",\n        \"num_unique_values\": 200,\n        \"samples\": [\n          \"Elementary School Teacher\",\n          \"Medical Laboratory Technician\",\n          \"Actor/Actress\"\n        ],\n        \"semantic_type\": \"\",\n        \"description\": \"\"\n      }\n    },\n    {\n      \"column\": \"predicted_label\",\n      \"properties\": {\n        \"dtype\": \"category\",\n        \"num_unique_values\": 9,\n        \"samples\": [\n          \"finance\",\n          \"technology\",\n          \"marketing_advertising\"\n        ],\n        \"semantic_type\": \"\",\n        \"description\": \"\"\n      }\n    }\n  ]\n}"
            }
          },
          "metadata": {},
          "execution_count": 20
        }
      ]
    },
    {
      "cell_type": "code",
      "source": [
        "test_set_accuracy(gpt_preds_df)"
      ],
      "metadata": {
        "id": "4acpeHOt3Mlp",
        "colab": {
          "base_uri": "https://localhost:8080/"
        },
        "outputId": "06d71b25-cb70-41bd-ac6c-73621141711e"
      },
      "execution_count": null,
      "outputs": [
        {
          "output_type": "stream",
          "name": "stdout",
          "text": [
            "Accuracy: 0.935\n"
          ]
        }
      ]
    },
    {
      "cell_type": "markdown",
      "source": [
        "Using GPT-4.0 we get an accuracy of 93.5%. This is an unbelievable start. We can see above one of the mislabeled categories was \"Data Analyst\". If we are being honest, it probably qualifies as either technology or marketing/advertising, and GPT chose technology. This is a situation where some human oversight is still required. Up to this point, our best performaning model was the BERT transformer with a test accuracy of 89%. Our first experiment with an LLM has already surpassed that performance and we haven't even looked into fine-tuning or adding agents (coming soon!)\n",
        "\n",
        "In order to save some lines of repeated code, we re-ran the code above for GPT-3.5 by switching the model variable. GPT-3.5 was found to have a test accuracy of 90.5%. Some improvement is expected for the latest model, but knowing the exact difference is important when accounting for resources as well."
      ],
      "metadata": {
        "id": "V-p-K-g3lfHr"
      }
    },
    {
      "cell_type": "markdown",
      "source": [
        "## Google Gemini"
      ],
      "metadata": {
        "id": "6lXUUgac5V0r"
      }
    },
    {
      "cell_type": "markdown",
      "source": [
        "Google's Gemini has versions 1.0 and 1.5 available as of the publishing of this series. There is a free tier available for each model, with strict rate limits. As it currently stands, versions 1.0 and 1.5 do not yet have paid for tiers. The limits on the free version of 1.5 Pro are too strict for our task. Due to this, we will test using version 1.0 and be sure to check back when version 1.5's paid for tier releases later in May 2024. Version 1.0 supports only user prompts, a major difference from version 1.5."
      ],
      "metadata": {
        "id": "1mnA_axsdsWF"
      }
    },
    {
      "cell_type": "code",
      "source": [
        "gemini_preds_df = test_df.copy()"
      ],
      "metadata": {
        "id": "MfQB3UPkpd2k"
      },
      "execution_count": null,
      "outputs": []
    },
    {
      "cell_type": "code",
      "source": [
        "genai.configure(api_key=gemini_api_key)"
      ],
      "metadata": {
        "id": "o_j0Yu0SWJc0"
      },
      "execution_count": null,
      "outputs": []
    },
    {
      "cell_type": "code",
      "source": [
        "## Set up the model\n",
        "generation_config = {\n",
        "  \"temperature\": 0.5,\n",
        "  ## this disables the top_p filtering\n",
        "  \"top_p\": 1,\n",
        "  ## this disables the top_k filtering\n",
        "  \"top_k\": 0,\n",
        "  ## keep max output low, labels provided are low token count\n",
        "  \"max_output_tokens\": 100,\n",
        "  #\"response_mime_type\": \"application/json\",\n",
        "}"
      ],
      "metadata": {
        "id": "zqr9TdekrMkJ"
      },
      "execution_count": null,
      "outputs": []
    },
    {
      "cell_type": "code",
      "source": [
        "## list the available models\n",
        "for m in genai.list_models():\n",
        "  if 'generateContent' in m.supported_generation_methods:\n",
        "    print(m.name)"
      ],
      "metadata": {
        "colab": {
          "base_uri": "https://localhost:8080/",
          "height": 225
        },
        "id": "MhH0_zzdnoia",
        "outputId": "a6682889-2a35-40a3-d194-5c1e91bf6d17"
      },
      "execution_count": null,
      "outputs": [
        {
          "output_type": "stream",
          "name": "stdout",
          "text": [
            "models/gemini-1.0-pro\n",
            "models/gemini-1.0-pro-001\n",
            "models/gemini-1.0-pro-latest\n",
            "models/gemini-1.0-pro-vision-latest\n",
            "models/gemini-1.5-flash\n",
            "models/gemini-1.5-flash-001\n",
            "models/gemini-1.5-flash-latest\n",
            "models/gemini-1.5-pro\n",
            "models/gemini-1.5-pro-001\n",
            "models/gemini-1.5-pro-latest\n",
            "models/gemini-pro\n",
            "models/gemini-pro-vision\n"
          ]
        }
      ]
    },
    {
      "cell_type": "code",
      "source": [
        "## choose the text only model\n",
        "model_name=\"gemini-1.0-pro-latest\""
      ],
      "metadata": {
        "id": "LSDex-RysHPR"
      },
      "execution_count": null,
      "outputs": []
    },
    {
      "cell_type": "code",
      "source": [
        "def gemini_call(model_name, generation_config, user_prompt):\n",
        "    model = genai.GenerativeModel(model_name=model_name,\n",
        "                                  generation_config=generation_config)\n",
        "\n",
        "    response = model.generate_content(user_prompt)\n",
        "\n",
        "    return response"
      ],
      "metadata": {
        "id": "eu0jCVdIplE4"
      },
      "execution_count": null,
      "outputs": []
    },
    {
      "cell_type": "code",
      "source": [
        "tracker_list = []\n",
        "\n",
        "for i, text in enumerate(gemini_preds_df['text']):\n",
        "    print(\"Text Item:\", text)\n",
        "    while True:\n",
        "        try:\n",
        "            user_prompt = create_user_prompt(unique_labels_list, text)\n",
        "            response = gemini_call(model_name, generation_config, user_prompt)\n",
        "            print(\"Gemini Output:\", response)\n",
        "            ## Extracting the text\n",
        "            response_str = response.candidates[0].content.parts[0].text\n",
        "            response_str = response_str.strip()\n",
        "            ## Parsing the string into a dictionary object\n",
        "            json_response = json.loads(response_str)\n",
        "            print(\"Parsed JSON:\", json_response)\n",
        "            if json_response is not None:\n",
        "                ## Extracting key and value as separate variables using popitem()\n",
        "                key, value = json_response.popitem()\n",
        "                tracker = {key: value}\n",
        "                print(\"Dict Output:\", tracker)\n",
        "                if text == key and value in unique_labels_list:\n",
        "                    print(\"Adding prediction to df\")\n",
        "                    gemini_preds_df.at[i, 'predicted_label'] = value\n",
        "                    tracker_list.append(tracker)\n",
        "                    break\n",
        "                else:\n",
        "                    print(\"Invalid Response from Gemini, resubmitting request\")\n",
        "            else:\n",
        "                print(\"JSON response is None, resubmitting request...\")\n",
        "        except Exception as e:\n",
        "            ## Catch all exceptions including RateLimitError\n",
        "            print(f\"An error occurred: {e}\")\n",
        "            if \"RESOURCE_EXHAUSTED\" in str(e):\n",
        "                print(\"Rate limit exceeded. Waiting for 100 seconds to retry...\")\n",
        "                time.sleep(100)  ## Wait for 100 seconds (adjust as needed)\n",
        "            else:\n",
        "                break  ## Exit the loop for other exceptions\n",
        "\n",
        "print(\"Tracker List:\", tracker_list)"
      ],
      "metadata": {
        "id": "KfBnIPhWemJ6",
        "collapsed": true
      },
      "execution_count": null,
      "outputs": []
    },
    {
      "cell_type": "markdown",
      "source": [
        "Similarly, we will hide the entire output and show a sample:\n",
        "\n",
        "\"Text Item: Education Technology Specialist\n",
        "\n",
        "Gemini Output: response:\n",
        "GenerateContentResponse(\n",
        "    done=True,\n",
        "    iterator=None,\n",
        "    result=glm.GenerateContentResponse({'candidates': [{'content': {'parts': [{'text': '{\"Education Technology Specialist\":\"education\"}'}], 'role': 'model'}, 'finish_reason': 1, 'index': 0, 'safety_ratings': [{'category': 9, 'probability': 1, 'blocked': False}, {'category': 8, 'probability': 1, 'blocked': False}, {'category': 7, 'probability': 1, 'blocked': False}, {'category': 10, 'probability': 1, 'blocked': False}], 'token_count': 0, 'grounding_attributions': []}]}),\n",
        ")\n",
        "\n",
        "Parsed JSON: {'Education Technology Specialist': 'education'}\n",
        "\n",
        "Dict Output: {'Education Technology Specialist': 'education'}\n",
        "\n",
        "Adding prediction to df\""
      ],
      "metadata": {
        "id": "pJRiyEgFA7xw"
      }
    },
    {
      "cell_type": "code",
      "source": [
        "## load in the previously created predictions dataframe\n",
        "gemini_preds_df = pd.read_csv('predictions_gemini1.csv')"
      ],
      "metadata": {
        "id": "RdEm9LDI4bM0"
      },
      "execution_count": null,
      "outputs": []
    },
    {
      "cell_type": "code",
      "source": [
        "unique_labels = gemini_preds_df['predicted_label'].unique()\n",
        "unique_labels_list = unique_labels.tolist()\n",
        "print(\"Label Counts List:\", unique_labels_list)"
      ],
      "metadata": {
        "colab": {
          "base_uri": "https://localhost:8080/"
        },
        "id": "CXJZxavi2-Bw",
        "outputId": "99bc7c3f-6b45-469d-e9b2-0cd79f8c7739"
      },
      "execution_count": null,
      "outputs": [
        {
          "output_type": "stream",
          "name": "stdout",
          "text": [
            "Label Counts List: ['education', 'technology', 'retail_hospitality', 'legal', 'drama_arts', 'marketing_advertising', 'healthcare', 'finance', 'management']\n"
          ]
        }
      ]
    },
    {
      "cell_type": "markdown",
      "source": [
        "Oddly enough, Gemini also creates a new label category called \"management\". GPT-4 did the same, but GPT-3.5 stayed within the bounds. Let's keep this in mind and see if it is a recurring issue with other models."
      ],
      "metadata": {
        "id": "BxszNuqq3Rg2"
      }
    },
    {
      "cell_type": "code",
      "source": [
        "gemini_preds_df.head()"
      ],
      "metadata": {
        "colab": {
          "base_uri": "https://localhost:8080/",
          "height": 206
        },
        "id": "STsOTxo58pnC",
        "outputId": "a8ed0390-0b4b-4151-b8fd-3b0410fba95b"
      },
      "execution_count": null,
      "outputs": [
        {
          "output_type": "execute_result",
          "data": {
            "text/plain": [
              "                   label                             text     predicted_label\n",
              "0              education  Education Technology Specialist           education\n",
              "1             technology        Incident Response Analyst          technology\n",
              "2     retail_hospitality           Spa Operations Manager  retail_hospitality\n",
              "3  marketing_advertising                     Data Analyst          technology\n",
              "4             drama_arts                   Hair Assistant  retail_hospitality"
            ],
            "text/html": [
              "\n",
              "  <div id=\"df-8ce5eca8-2729-46d3-8dcc-5efcc34c7d79\" class=\"colab-df-container\">\n",
              "    <div>\n",
              "<style scoped>\n",
              "    .dataframe tbody tr th:only-of-type {\n",
              "        vertical-align: middle;\n",
              "    }\n",
              "\n",
              "    .dataframe tbody tr th {\n",
              "        vertical-align: top;\n",
              "    }\n",
              "\n",
              "    .dataframe thead th {\n",
              "        text-align: right;\n",
              "    }\n",
              "</style>\n",
              "<table border=\"1\" class=\"dataframe\">\n",
              "  <thead>\n",
              "    <tr style=\"text-align: right;\">\n",
              "      <th></th>\n",
              "      <th>label</th>\n",
              "      <th>text</th>\n",
              "      <th>predicted_label</th>\n",
              "    </tr>\n",
              "  </thead>\n",
              "  <tbody>\n",
              "    <tr>\n",
              "      <th>0</th>\n",
              "      <td>education</td>\n",
              "      <td>Education Technology Specialist</td>\n",
              "      <td>education</td>\n",
              "    </tr>\n",
              "    <tr>\n",
              "      <th>1</th>\n",
              "      <td>technology</td>\n",
              "      <td>Incident Response Analyst</td>\n",
              "      <td>technology</td>\n",
              "    </tr>\n",
              "    <tr>\n",
              "      <th>2</th>\n",
              "      <td>retail_hospitality</td>\n",
              "      <td>Spa Operations Manager</td>\n",
              "      <td>retail_hospitality</td>\n",
              "    </tr>\n",
              "    <tr>\n",
              "      <th>3</th>\n",
              "      <td>marketing_advertising</td>\n",
              "      <td>Data Analyst</td>\n",
              "      <td>technology</td>\n",
              "    </tr>\n",
              "    <tr>\n",
              "      <th>4</th>\n",
              "      <td>drama_arts</td>\n",
              "      <td>Hair Assistant</td>\n",
              "      <td>retail_hospitality</td>\n",
              "    </tr>\n",
              "  </tbody>\n",
              "</table>\n",
              "</div>\n",
              "    <div class=\"colab-df-buttons\">\n",
              "\n",
              "  <div class=\"colab-df-container\">\n",
              "    <button class=\"colab-df-convert\" onclick=\"convertToInteractive('df-8ce5eca8-2729-46d3-8dcc-5efcc34c7d79')\"\n",
              "            title=\"Convert this dataframe to an interactive table.\"\n",
              "            style=\"display:none;\">\n",
              "\n",
              "  <svg xmlns=\"http://www.w3.org/2000/svg\" height=\"24px\" viewBox=\"0 -960 960 960\">\n",
              "    <path d=\"M120-120v-720h720v720H120Zm60-500h600v-160H180v160Zm220 220h160v-160H400v160Zm0 220h160v-160H400v160ZM180-400h160v-160H180v160Zm440 0h160v-160H620v160ZM180-180h160v-160H180v160Zm440 0h160v-160H620v160Z\"/>\n",
              "  </svg>\n",
              "    </button>\n",
              "\n",
              "  <style>\n",
              "    .colab-df-container {\n",
              "      display:flex;\n",
              "      gap: 12px;\n",
              "    }\n",
              "\n",
              "    .colab-df-convert {\n",
              "      background-color: #E8F0FE;\n",
              "      border: none;\n",
              "      border-radius: 50%;\n",
              "      cursor: pointer;\n",
              "      display: none;\n",
              "      fill: #1967D2;\n",
              "      height: 32px;\n",
              "      padding: 0 0 0 0;\n",
              "      width: 32px;\n",
              "    }\n",
              "\n",
              "    .colab-df-convert:hover {\n",
              "      background-color: #E2EBFA;\n",
              "      box-shadow: 0px 1px 2px rgba(60, 64, 67, 0.3), 0px 1px 3px 1px rgba(60, 64, 67, 0.15);\n",
              "      fill: #174EA6;\n",
              "    }\n",
              "\n",
              "    .colab-df-buttons div {\n",
              "      margin-bottom: 4px;\n",
              "    }\n",
              "\n",
              "    [theme=dark] .colab-df-convert {\n",
              "      background-color: #3B4455;\n",
              "      fill: #D2E3FC;\n",
              "    }\n",
              "\n",
              "    [theme=dark] .colab-df-convert:hover {\n",
              "      background-color: #434B5C;\n",
              "      box-shadow: 0px 1px 3px 1px rgba(0, 0, 0, 0.15);\n",
              "      filter: drop-shadow(0px 1px 2px rgba(0, 0, 0, 0.3));\n",
              "      fill: #FFFFFF;\n",
              "    }\n",
              "  </style>\n",
              "\n",
              "    <script>\n",
              "      const buttonEl =\n",
              "        document.querySelector('#df-8ce5eca8-2729-46d3-8dcc-5efcc34c7d79 button.colab-df-convert');\n",
              "      buttonEl.style.display =\n",
              "        google.colab.kernel.accessAllowed ? 'block' : 'none';\n",
              "\n",
              "      async function convertToInteractive(key) {\n",
              "        const element = document.querySelector('#df-8ce5eca8-2729-46d3-8dcc-5efcc34c7d79');\n",
              "        const dataTable =\n",
              "          await google.colab.kernel.invokeFunction('convertToInteractive',\n",
              "                                                    [key], {});\n",
              "        if (!dataTable) return;\n",
              "\n",
              "        const docLinkHtml = 'Like what you see? Visit the ' +\n",
              "          '<a target=\"_blank\" href=https://colab.research.google.com/notebooks/data_table.ipynb>data table notebook</a>'\n",
              "          + ' to learn more about interactive tables.';\n",
              "        element.innerHTML = '';\n",
              "        dataTable['output_type'] = 'display_data';\n",
              "        await google.colab.output.renderOutput(dataTable, element);\n",
              "        const docLink = document.createElement('div');\n",
              "        docLink.innerHTML = docLinkHtml;\n",
              "        element.appendChild(docLink);\n",
              "      }\n",
              "    </script>\n",
              "  </div>\n",
              "\n",
              "\n",
              "<div id=\"df-91f1ae2a-d990-4ef2-a4b6-87d4bb45e622\">\n",
              "  <button class=\"colab-df-quickchart\" onclick=\"quickchart('df-91f1ae2a-d990-4ef2-a4b6-87d4bb45e622')\"\n",
              "            title=\"Suggest charts\"\n",
              "            style=\"display:none;\">\n",
              "\n",
              "<svg xmlns=\"http://www.w3.org/2000/svg\" height=\"24px\"viewBox=\"0 0 24 24\"\n",
              "     width=\"24px\">\n",
              "    <g>\n",
              "        <path d=\"M19 3H5c-1.1 0-2 .9-2 2v14c0 1.1.9 2 2 2h14c1.1 0 2-.9 2-2V5c0-1.1-.9-2-2-2zM9 17H7v-7h2v7zm4 0h-2V7h2v10zm4 0h-2v-4h2v4z\"/>\n",
              "    </g>\n",
              "</svg>\n",
              "  </button>\n",
              "\n",
              "<style>\n",
              "  .colab-df-quickchart {\n",
              "      --bg-color: #E8F0FE;\n",
              "      --fill-color: #1967D2;\n",
              "      --hover-bg-color: #E2EBFA;\n",
              "      --hover-fill-color: #174EA6;\n",
              "      --disabled-fill-color: #AAA;\n",
              "      --disabled-bg-color: #DDD;\n",
              "  }\n",
              "\n",
              "  [theme=dark] .colab-df-quickchart {\n",
              "      --bg-color: #3B4455;\n",
              "      --fill-color: #D2E3FC;\n",
              "      --hover-bg-color: #434B5C;\n",
              "      --hover-fill-color: #FFFFFF;\n",
              "      --disabled-bg-color: #3B4455;\n",
              "      --disabled-fill-color: #666;\n",
              "  }\n",
              "\n",
              "  .colab-df-quickchart {\n",
              "    background-color: var(--bg-color);\n",
              "    border: none;\n",
              "    border-radius: 50%;\n",
              "    cursor: pointer;\n",
              "    display: none;\n",
              "    fill: var(--fill-color);\n",
              "    height: 32px;\n",
              "    padding: 0;\n",
              "    width: 32px;\n",
              "  }\n",
              "\n",
              "  .colab-df-quickchart:hover {\n",
              "    background-color: var(--hover-bg-color);\n",
              "    box-shadow: 0 1px 2px rgba(60, 64, 67, 0.3), 0 1px 3px 1px rgba(60, 64, 67, 0.15);\n",
              "    fill: var(--button-hover-fill-color);\n",
              "  }\n",
              "\n",
              "  .colab-df-quickchart-complete:disabled,\n",
              "  .colab-df-quickchart-complete:disabled:hover {\n",
              "    background-color: var(--disabled-bg-color);\n",
              "    fill: var(--disabled-fill-color);\n",
              "    box-shadow: none;\n",
              "  }\n",
              "\n",
              "  .colab-df-spinner {\n",
              "    border: 2px solid var(--fill-color);\n",
              "    border-color: transparent;\n",
              "    border-bottom-color: var(--fill-color);\n",
              "    animation:\n",
              "      spin 1s steps(1) infinite;\n",
              "  }\n",
              "\n",
              "  @keyframes spin {\n",
              "    0% {\n",
              "      border-color: transparent;\n",
              "      border-bottom-color: var(--fill-color);\n",
              "      border-left-color: var(--fill-color);\n",
              "    }\n",
              "    20% {\n",
              "      border-color: transparent;\n",
              "      border-left-color: var(--fill-color);\n",
              "      border-top-color: var(--fill-color);\n",
              "    }\n",
              "    30% {\n",
              "      border-color: transparent;\n",
              "      border-left-color: var(--fill-color);\n",
              "      border-top-color: var(--fill-color);\n",
              "      border-right-color: var(--fill-color);\n",
              "    }\n",
              "    40% {\n",
              "      border-color: transparent;\n",
              "      border-right-color: var(--fill-color);\n",
              "      border-top-color: var(--fill-color);\n",
              "    }\n",
              "    60% {\n",
              "      border-color: transparent;\n",
              "      border-right-color: var(--fill-color);\n",
              "    }\n",
              "    80% {\n",
              "      border-color: transparent;\n",
              "      border-right-color: var(--fill-color);\n",
              "      border-bottom-color: var(--fill-color);\n",
              "    }\n",
              "    90% {\n",
              "      border-color: transparent;\n",
              "      border-bottom-color: var(--fill-color);\n",
              "    }\n",
              "  }\n",
              "</style>\n",
              "\n",
              "  <script>\n",
              "    async function quickchart(key) {\n",
              "      const quickchartButtonEl =\n",
              "        document.querySelector('#' + key + ' button');\n",
              "      quickchartButtonEl.disabled = true;  // To prevent multiple clicks.\n",
              "      quickchartButtonEl.classList.add('colab-df-spinner');\n",
              "      try {\n",
              "        const charts = await google.colab.kernel.invokeFunction(\n",
              "            'suggestCharts', [key], {});\n",
              "      } catch (error) {\n",
              "        console.error('Error during call to suggestCharts:', error);\n",
              "      }\n",
              "      quickchartButtonEl.classList.remove('colab-df-spinner');\n",
              "      quickchartButtonEl.classList.add('colab-df-quickchart-complete');\n",
              "    }\n",
              "    (() => {\n",
              "      let quickchartButtonEl =\n",
              "        document.querySelector('#df-91f1ae2a-d990-4ef2-a4b6-87d4bb45e622 button');\n",
              "      quickchartButtonEl.style.display =\n",
              "        google.colab.kernel.accessAllowed ? 'block' : 'none';\n",
              "    })();\n",
              "  </script>\n",
              "</div>\n",
              "    </div>\n",
              "  </div>\n"
            ],
            "application/vnd.google.colaboratory.intrinsic+json": {
              "type": "dataframe",
              "variable_name": "gemini_preds_df",
              "summary": "{\n  \"name\": \"gemini_preds_df\",\n  \"rows\": 200,\n  \"fields\": [\n    {\n      \"column\": \"label\",\n      \"properties\": {\n        \"dtype\": \"category\",\n        \"num_unique_values\": 8,\n        \"samples\": [\n          \"technology\",\n          \"legal\",\n          \"education\"\n        ],\n        \"semantic_type\": \"\",\n        \"description\": \"\"\n      }\n    },\n    {\n      \"column\": \"text\",\n      \"properties\": {\n        \"dtype\": \"string\",\n        \"num_unique_values\": 200,\n        \"samples\": [\n          \"Elementary School Teacher\",\n          \"Medical Laboratory Technician\",\n          \"Actor/Actress\"\n        ],\n        \"semantic_type\": \"\",\n        \"description\": \"\"\n      }\n    },\n    {\n      \"column\": \"predicted_label\",\n      \"properties\": {\n        \"dtype\": \"category\",\n        \"num_unique_values\": 9,\n        \"samples\": [\n          \"finance\",\n          \"technology\",\n          \"marketing_advertising\"\n        ],\n        \"semantic_type\": \"\",\n        \"description\": \"\"\n      }\n    }\n  ]\n}"
            }
          },
          "metadata": {},
          "execution_count": 30
        }
      ]
    },
    {
      "cell_type": "code",
      "source": [
        "test_set_accuracy(gemini_preds_df)"
      ],
      "metadata": {
        "id": "TqfGgOwoPLhB",
        "colab": {
          "base_uri": "https://localhost:8080/"
        },
        "outputId": "b8866628-25aa-46b8-8fd5-fbd1d096c7b4"
      },
      "execution_count": null,
      "outputs": [
        {
          "output_type": "stream",
          "name": "stdout",
          "text": [
            "Accuracy: 0.91\n"
          ]
        }
      ]
    },
    {
      "cell_type": "markdown",
      "source": [
        "Gemini Pro 1.0 falls between GPT-3.5 and GPT-4.0 with an accuacy of 91%. We also found similar speed of task completion in comparison to the GPT series. It was able to beat GPT 3.5 slightly without needing a system prompt or function/tool to maintain output in dictionary format."
      ],
      "metadata": {
        "id": "ETkOOqkxBiPZ"
      }
    },
    {
      "cell_type": "markdown",
      "source": [
        "## Meta Llama"
      ],
      "metadata": {
        "id": "mNXCkJhT5eGh"
      }
    },
    {
      "cell_type": "markdown",
      "source": [
        "Meta's open-source model \"Llama\" released its third version on 4/18/24. While it is open-source, there is no API available through Meta as of this writing. We will use a third-party called Replicate to access the model via API. Replicate has a free trial, but eventually will require a fee to use the API. Llama can also be accessed via Hugging Face's API but let's explore Replicate as it has additional features that Hugging Face does not. We will explore the Hugging Face API later on.\n",
        "\n",
        "Replicate provides a very user-friendly interface and includes many of the same parameters as OpenAI and Gemini do.\n",
        "\n",
        "https://replicate.com/meta/meta-llama-3-70b-instruct/api\n",
        "\n",
        "We discussed earlier how some of the job titles in our data could qualify in multiple categorized. Meta acknowledges this and occasionally tries to add two labels to the job title. This is incorrect for our task, so it requires adding more detail to the prompt that only one label must be selected. There are other ways to get around this problem, perhaps your solution is to have the model flag each job that could fit into multiple categories and ask for human intervention to decide. For the task at hand, we just want to compare performance, but it was interesting to see this model deviate from the instructions in that way.\n",
        "\n",
        "Llama was also found to be very chatty. It provided the output requested, but would output longer strings of text and sentences before it provided the one or two word answer requested. This resulted in many errors when parsing the data in the loop below. The first full run only provided 72% accuracy, largely due to many \"NaN\" values predicted due to parsing errors.\n",
        "\n",
        "This piece was added to the user prompt before the examples are provided. It corrected all errors on the very next run:\n",
        "\n",
        "\"Only choose one value from the existing topics. Only respond with the dictionary output shown in the examples provided. No chatting.\""
      ],
      "metadata": {
        "id": "NmTZkgtUc2cA"
      }
    },
    {
      "cell_type": "code",
      "source": [
        "os.environ['REPLICATE_API_TOKEN'] = replicate_api_key"
      ],
      "metadata": {
        "id": "uAENRrLA-u6t"
      },
      "execution_count": null,
      "outputs": []
    },
    {
      "cell_type": "code",
      "source": [
        "model = 'meta/meta-llama-3-70b-instruct'"
      ],
      "metadata": {
        "id": "X7e58GNL7HF5"
      },
      "execution_count": null,
      "outputs": []
    },
    {
      "cell_type": "code",
      "source": [
        "meta_preds_df = test_df.copy()"
      ],
      "metadata": {
        "id": "P8GLGApP8Oeq"
      },
      "execution_count": null,
      "outputs": []
    },
    {
      "cell_type": "code",
      "source": [
        "def meta_call(model, system_prompt, user_prompt):\n",
        "    response = replicate.run(model,\n",
        "               input={\"prompt\": f\"{system_prompt} {user_prompt} Assistant: \",\n",
        "               \"temperature\":0.5, \"top_p\":1, \"top_k\":0, \"max_length\":50})\n",
        "    return response"
      ],
      "metadata": {
        "id": "1WoFqy2d6zEt"
      },
      "execution_count": null,
      "outputs": []
    },
    {
      "cell_type": "code",
      "source": [
        "tracker_list = []\n",
        "\n",
        "for i, text in enumerate(meta_preds_df['text']):\n",
        "    print(\"Text Item:\", text)\n",
        "    while True:\n",
        "        try:\n",
        "            user_prompt = create_user_prompt(unique_labels_list, text)\n",
        "            response = meta_call(model, system_prompt, user_prompt)\n",
        "            full_response = \"\"\n",
        "            for item in response:\n",
        "                full_response += item\n",
        "            print(\"Meta Output:\", full_response)\n",
        "            ## Parsing the string into a dictionary object\n",
        "            json_response = json.loads(full_response)\n",
        "            print(\"Parsed JSON:\", json_response)\n",
        "            if json_response is not None:\n",
        "                ## Extracting key and value as separate variables using popitem()\n",
        "                key, value = json_response.popitem()\n",
        "                tracker = {key: value}\n",
        "                print(\"Dict Output:\", tracker)\n",
        "                if text == key and value in unique_labels_list:\n",
        "                    print(\"Adding prediction to df\")\n",
        "                    meta_preds_df.at[i, 'predicted_label'] = value\n",
        "                    tracker_list.append(tracker)\n",
        "                    break\n",
        "                else:\n",
        "                    print(\"Invalid Response from Meta, resubmitting request\")\n",
        "            else:\n",
        "                print(\"JSON response is None, resubmitting request...\")\n",
        "        except Exception as e:\n",
        "            ## Catch all exceptions including RateLimitError\n",
        "            print(f\"An error occurred: {e}\")\n",
        "            if \"Rate limit exceeded\" in str(e):\n",
        "                print(\"Rate limit exceeded. Waiting for 100 seconds to retry...\")\n",
        "                time.sleep(100)  ## Wait for 100 seconds (adjust as needed)\n",
        "            else:\n",
        "                break  ## Exit the loop for other exceptions\n",
        "\n",
        "print(\"Tracker List:\", tracker_list)"
      ],
      "metadata": {
        "id": "1-JW9of8cD_I",
        "collapsed": true
      },
      "execution_count": null,
      "outputs": []
    },
    {
      "cell_type": "markdown",
      "source": [
        "Sample Output:\n",
        "\n",
        "\"Text Item: Education Technology Specialist\n",
        "\n",
        "Meta Output: {\"Education Technology Specialist\":\"education\"}\n",
        "\n",
        "Parsed JSON: {'Education Technology Specialist': 'education'}\n",
        "\n",
        "Dict Output: {'Education Technology Specialist': 'education'}\n",
        "\n",
        "Adding prediction to df\""
      ],
      "metadata": {
        "id": "btAc-vzNBnLw"
      }
    },
    {
      "cell_type": "code",
      "source": [
        "## load in the previously created predictions dataframe\n",
        "meta_preds_df = pd.read_csv('predictions_meta.csv')"
      ],
      "metadata": {
        "id": "TDLzwnBu4jhn"
      },
      "execution_count": null,
      "outputs": []
    },
    {
      "cell_type": "code",
      "source": [
        "unique_labels = meta_preds_df['predicted_label'].unique()\n",
        "unique_labels_list = unique_labels.tolist()\n",
        "print(\"Label Counts List:\", unique_labels_list)"
      ],
      "metadata": {
        "colab": {
          "base_uri": "https://localhost:8080/"
        },
        "id": "eoQ1sD5c_ABf",
        "outputId": "0331a2f5-cb63-41c6-803d-6c368838d553"
      },
      "execution_count": null,
      "outputs": [
        {
          "output_type": "stream",
          "name": "stdout",
          "text": [
            "Label Counts List: ['education', 'technology', 'retail_hospitality', 'finance', 'legal', 'drama_arts', 'marketing_advertising', 'healthcare']\n"
          ]
        }
      ]
    },
    {
      "cell_type": "markdown",
      "source": [
        "Llama did not create any new categories and stayed within the bounds."
      ],
      "metadata": {
        "id": "sl9u5hJsBvHh"
      }
    },
    {
      "cell_type": "code",
      "source": [
        "meta_preds_df.head()"
      ],
      "metadata": {
        "colab": {
          "base_uri": "https://localhost:8080/",
          "height": 206
        },
        "id": "ZJArsmu5GQ5m",
        "outputId": "0c2bb179-db18-4211-9b42-36318abd35a5"
      },
      "execution_count": null,
      "outputs": [
        {
          "output_type": "execute_result",
          "data": {
            "text/plain": [
              "                   label                             text     predicted_label\n",
              "0              education  Education Technology Specialist           education\n",
              "1             technology        Incident Response Analyst          technology\n",
              "2     retail_hospitality           Spa Operations Manager  retail_hospitality\n",
              "3  marketing_advertising                     Data Analyst             finance\n",
              "4             drama_arts                   Hair Assistant  retail_hospitality"
            ],
            "text/html": [
              "\n",
              "  <div id=\"df-fabdf0b7-1128-4096-89ec-0c5a07beb744\" class=\"colab-df-container\">\n",
              "    <div>\n",
              "<style scoped>\n",
              "    .dataframe tbody tr th:only-of-type {\n",
              "        vertical-align: middle;\n",
              "    }\n",
              "\n",
              "    .dataframe tbody tr th {\n",
              "        vertical-align: top;\n",
              "    }\n",
              "\n",
              "    .dataframe thead th {\n",
              "        text-align: right;\n",
              "    }\n",
              "</style>\n",
              "<table border=\"1\" class=\"dataframe\">\n",
              "  <thead>\n",
              "    <tr style=\"text-align: right;\">\n",
              "      <th></th>\n",
              "      <th>label</th>\n",
              "      <th>text</th>\n",
              "      <th>predicted_label</th>\n",
              "    </tr>\n",
              "  </thead>\n",
              "  <tbody>\n",
              "    <tr>\n",
              "      <th>0</th>\n",
              "      <td>education</td>\n",
              "      <td>Education Technology Specialist</td>\n",
              "      <td>education</td>\n",
              "    </tr>\n",
              "    <tr>\n",
              "      <th>1</th>\n",
              "      <td>technology</td>\n",
              "      <td>Incident Response Analyst</td>\n",
              "      <td>technology</td>\n",
              "    </tr>\n",
              "    <tr>\n",
              "      <th>2</th>\n",
              "      <td>retail_hospitality</td>\n",
              "      <td>Spa Operations Manager</td>\n",
              "      <td>retail_hospitality</td>\n",
              "    </tr>\n",
              "    <tr>\n",
              "      <th>3</th>\n",
              "      <td>marketing_advertising</td>\n",
              "      <td>Data Analyst</td>\n",
              "      <td>finance</td>\n",
              "    </tr>\n",
              "    <tr>\n",
              "      <th>4</th>\n",
              "      <td>drama_arts</td>\n",
              "      <td>Hair Assistant</td>\n",
              "      <td>retail_hospitality</td>\n",
              "    </tr>\n",
              "  </tbody>\n",
              "</table>\n",
              "</div>\n",
              "    <div class=\"colab-df-buttons\">\n",
              "\n",
              "  <div class=\"colab-df-container\">\n",
              "    <button class=\"colab-df-convert\" onclick=\"convertToInteractive('df-fabdf0b7-1128-4096-89ec-0c5a07beb744')\"\n",
              "            title=\"Convert this dataframe to an interactive table.\"\n",
              "            style=\"display:none;\">\n",
              "\n",
              "  <svg xmlns=\"http://www.w3.org/2000/svg\" height=\"24px\" viewBox=\"0 -960 960 960\">\n",
              "    <path d=\"M120-120v-720h720v720H120Zm60-500h600v-160H180v160Zm220 220h160v-160H400v160Zm0 220h160v-160H400v160ZM180-400h160v-160H180v160Zm440 0h160v-160H620v160ZM180-180h160v-160H180v160Zm440 0h160v-160H620v160Z\"/>\n",
              "  </svg>\n",
              "    </button>\n",
              "\n",
              "  <style>\n",
              "    .colab-df-container {\n",
              "      display:flex;\n",
              "      gap: 12px;\n",
              "    }\n",
              "\n",
              "    .colab-df-convert {\n",
              "      background-color: #E8F0FE;\n",
              "      border: none;\n",
              "      border-radius: 50%;\n",
              "      cursor: pointer;\n",
              "      display: none;\n",
              "      fill: #1967D2;\n",
              "      height: 32px;\n",
              "      padding: 0 0 0 0;\n",
              "      width: 32px;\n",
              "    }\n",
              "\n",
              "    .colab-df-convert:hover {\n",
              "      background-color: #E2EBFA;\n",
              "      box-shadow: 0px 1px 2px rgba(60, 64, 67, 0.3), 0px 1px 3px 1px rgba(60, 64, 67, 0.15);\n",
              "      fill: #174EA6;\n",
              "    }\n",
              "\n",
              "    .colab-df-buttons div {\n",
              "      margin-bottom: 4px;\n",
              "    }\n",
              "\n",
              "    [theme=dark] .colab-df-convert {\n",
              "      background-color: #3B4455;\n",
              "      fill: #D2E3FC;\n",
              "    }\n",
              "\n",
              "    [theme=dark] .colab-df-convert:hover {\n",
              "      background-color: #434B5C;\n",
              "      box-shadow: 0px 1px 3px 1px rgba(0, 0, 0, 0.15);\n",
              "      filter: drop-shadow(0px 1px 2px rgba(0, 0, 0, 0.3));\n",
              "      fill: #FFFFFF;\n",
              "    }\n",
              "  </style>\n",
              "\n",
              "    <script>\n",
              "      const buttonEl =\n",
              "        document.querySelector('#df-fabdf0b7-1128-4096-89ec-0c5a07beb744 button.colab-df-convert');\n",
              "      buttonEl.style.display =\n",
              "        google.colab.kernel.accessAllowed ? 'block' : 'none';\n",
              "\n",
              "      async function convertToInteractive(key) {\n",
              "        const element = document.querySelector('#df-fabdf0b7-1128-4096-89ec-0c5a07beb744');\n",
              "        const dataTable =\n",
              "          await google.colab.kernel.invokeFunction('convertToInteractive',\n",
              "                                                    [key], {});\n",
              "        if (!dataTable) return;\n",
              "\n",
              "        const docLinkHtml = 'Like what you see? Visit the ' +\n",
              "          '<a target=\"_blank\" href=https://colab.research.google.com/notebooks/data_table.ipynb>data table notebook</a>'\n",
              "          + ' to learn more about interactive tables.';\n",
              "        element.innerHTML = '';\n",
              "        dataTable['output_type'] = 'display_data';\n",
              "        await google.colab.output.renderOutput(dataTable, element);\n",
              "        const docLink = document.createElement('div');\n",
              "        docLink.innerHTML = docLinkHtml;\n",
              "        element.appendChild(docLink);\n",
              "      }\n",
              "    </script>\n",
              "  </div>\n",
              "\n",
              "\n",
              "<div id=\"df-fbc1308c-742e-456b-8890-b432ffa31f4f\">\n",
              "  <button class=\"colab-df-quickchart\" onclick=\"quickchart('df-fbc1308c-742e-456b-8890-b432ffa31f4f')\"\n",
              "            title=\"Suggest charts\"\n",
              "            style=\"display:none;\">\n",
              "\n",
              "<svg xmlns=\"http://www.w3.org/2000/svg\" height=\"24px\"viewBox=\"0 0 24 24\"\n",
              "     width=\"24px\">\n",
              "    <g>\n",
              "        <path d=\"M19 3H5c-1.1 0-2 .9-2 2v14c0 1.1.9 2 2 2h14c1.1 0 2-.9 2-2V5c0-1.1-.9-2-2-2zM9 17H7v-7h2v7zm4 0h-2V7h2v10zm4 0h-2v-4h2v4z\"/>\n",
              "    </g>\n",
              "</svg>\n",
              "  </button>\n",
              "\n",
              "<style>\n",
              "  .colab-df-quickchart {\n",
              "      --bg-color: #E8F0FE;\n",
              "      --fill-color: #1967D2;\n",
              "      --hover-bg-color: #E2EBFA;\n",
              "      --hover-fill-color: #174EA6;\n",
              "      --disabled-fill-color: #AAA;\n",
              "      --disabled-bg-color: #DDD;\n",
              "  }\n",
              "\n",
              "  [theme=dark] .colab-df-quickchart {\n",
              "      --bg-color: #3B4455;\n",
              "      --fill-color: #D2E3FC;\n",
              "      --hover-bg-color: #434B5C;\n",
              "      --hover-fill-color: #FFFFFF;\n",
              "      --disabled-bg-color: #3B4455;\n",
              "      --disabled-fill-color: #666;\n",
              "  }\n",
              "\n",
              "  .colab-df-quickchart {\n",
              "    background-color: var(--bg-color);\n",
              "    border: none;\n",
              "    border-radius: 50%;\n",
              "    cursor: pointer;\n",
              "    display: none;\n",
              "    fill: var(--fill-color);\n",
              "    height: 32px;\n",
              "    padding: 0;\n",
              "    width: 32px;\n",
              "  }\n",
              "\n",
              "  .colab-df-quickchart:hover {\n",
              "    background-color: var(--hover-bg-color);\n",
              "    box-shadow: 0 1px 2px rgba(60, 64, 67, 0.3), 0 1px 3px 1px rgba(60, 64, 67, 0.15);\n",
              "    fill: var(--button-hover-fill-color);\n",
              "  }\n",
              "\n",
              "  .colab-df-quickchart-complete:disabled,\n",
              "  .colab-df-quickchart-complete:disabled:hover {\n",
              "    background-color: var(--disabled-bg-color);\n",
              "    fill: var(--disabled-fill-color);\n",
              "    box-shadow: none;\n",
              "  }\n",
              "\n",
              "  .colab-df-spinner {\n",
              "    border: 2px solid var(--fill-color);\n",
              "    border-color: transparent;\n",
              "    border-bottom-color: var(--fill-color);\n",
              "    animation:\n",
              "      spin 1s steps(1) infinite;\n",
              "  }\n",
              "\n",
              "  @keyframes spin {\n",
              "    0% {\n",
              "      border-color: transparent;\n",
              "      border-bottom-color: var(--fill-color);\n",
              "      border-left-color: var(--fill-color);\n",
              "    }\n",
              "    20% {\n",
              "      border-color: transparent;\n",
              "      border-left-color: var(--fill-color);\n",
              "      border-top-color: var(--fill-color);\n",
              "    }\n",
              "    30% {\n",
              "      border-color: transparent;\n",
              "      border-left-color: var(--fill-color);\n",
              "      border-top-color: var(--fill-color);\n",
              "      border-right-color: var(--fill-color);\n",
              "    }\n",
              "    40% {\n",
              "      border-color: transparent;\n",
              "      border-right-color: var(--fill-color);\n",
              "      border-top-color: var(--fill-color);\n",
              "    }\n",
              "    60% {\n",
              "      border-color: transparent;\n",
              "      border-right-color: var(--fill-color);\n",
              "    }\n",
              "    80% {\n",
              "      border-color: transparent;\n",
              "      border-right-color: var(--fill-color);\n",
              "      border-bottom-color: var(--fill-color);\n",
              "    }\n",
              "    90% {\n",
              "      border-color: transparent;\n",
              "      border-bottom-color: var(--fill-color);\n",
              "    }\n",
              "  }\n",
              "</style>\n",
              "\n",
              "  <script>\n",
              "    async function quickchart(key) {\n",
              "      const quickchartButtonEl =\n",
              "        document.querySelector('#' + key + ' button');\n",
              "      quickchartButtonEl.disabled = true;  // To prevent multiple clicks.\n",
              "      quickchartButtonEl.classList.add('colab-df-spinner');\n",
              "      try {\n",
              "        const charts = await google.colab.kernel.invokeFunction(\n",
              "            'suggestCharts', [key], {});\n",
              "      } catch (error) {\n",
              "        console.error('Error during call to suggestCharts:', error);\n",
              "      }\n",
              "      quickchartButtonEl.classList.remove('colab-df-spinner');\n",
              "      quickchartButtonEl.classList.add('colab-df-quickchart-complete');\n",
              "    }\n",
              "    (() => {\n",
              "      let quickchartButtonEl =\n",
              "        document.querySelector('#df-fbc1308c-742e-456b-8890-b432ffa31f4f button');\n",
              "      quickchartButtonEl.style.display =\n",
              "        google.colab.kernel.accessAllowed ? 'block' : 'none';\n",
              "    })();\n",
              "  </script>\n",
              "</div>\n",
              "    </div>\n",
              "  </div>\n"
            ],
            "application/vnd.google.colaboratory.intrinsic+json": {
              "type": "dataframe",
              "variable_name": "meta_preds_df",
              "summary": "{\n  \"name\": \"meta_preds_df\",\n  \"rows\": 200,\n  \"fields\": [\n    {\n      \"column\": \"label\",\n      \"properties\": {\n        \"dtype\": \"category\",\n        \"num_unique_values\": 8,\n        \"samples\": [\n          \"technology\",\n          \"legal\",\n          \"education\"\n        ],\n        \"semantic_type\": \"\",\n        \"description\": \"\"\n      }\n    },\n    {\n      \"column\": \"text\",\n      \"properties\": {\n        \"dtype\": \"string\",\n        \"num_unique_values\": 200,\n        \"samples\": [\n          \"Elementary School Teacher\",\n          \"Medical Laboratory Technician\",\n          \"Actor/Actress\"\n        ],\n        \"semantic_type\": \"\",\n        \"description\": \"\"\n      }\n    },\n    {\n      \"column\": \"predicted_label\",\n      \"properties\": {\n        \"dtype\": \"category\",\n        \"num_unique_values\": 8,\n        \"samples\": [\n          \"technology\",\n          \"drama_arts\",\n          \"education\"\n        ],\n        \"semantic_type\": \"\",\n        \"description\": \"\"\n      }\n    }\n  ]\n}"
            }
          },
          "metadata": {},
          "execution_count": 38
        }
      ]
    },
    {
      "cell_type": "code",
      "source": [
        "test_set_accuracy(meta_preds_df)"
      ],
      "metadata": {
        "id": "NkE3QjdUPNp8",
        "colab": {
          "base_uri": "https://localhost:8080/"
        },
        "outputId": "93ae26a1-394b-48c1-fef5-1a402161e8bc"
      },
      "execution_count": null,
      "outputs": [
        {
          "output_type": "stream",
          "name": "stdout",
          "text": [
            "Accuracy: 0.93\n"
          ]
        }
      ]
    },
    {
      "cell_type": "markdown",
      "source": [
        "After adding additional context to the user prompt, the Meta Llama 3 model provided 93% accuracy. It showed good speed as well. It is okay that the model required some tinkering with the prompt, that is the basis of prompt engineering. Not all of these models will work the exact same way. It is up to users to figure out how to get the best performance out of the model. The addition of two sentences resulted in a 93% accuracy, we'd say that is a fair trade-off. It would be nice however, if Replicate incorporated function calling as GPT does to ensure proper output structure."
      ],
      "metadata": {
        "id": "Dlh6oX0TBjCG"
      }
    },
    {
      "cell_type": "markdown",
      "source": [
        "## Hugging Chat"
      ],
      "metadata": {
        "id": "HqqLLmih5aSd"
      }
    },
    {
      "cell_type": "markdown",
      "source": [
        "Hugging Face, the popular open source library has its own chat bot which can be found here: https://huggingface.co/chat/\n",
        "\n",
        "One of the advantages of using this open-source chat bot is the ability to change the model based on the user's specific needs. This section shows how to use the *unofficial* python library to interface with the Hugging Chat API.\n",
        "\n",
        "Special thanks to Github user **Soulter** for their contributions to Hug Chat API. See more on their Github page:\n",
        "\n",
        "https://github.com/Soulter/hugging-chat-api\n",
        "\n",
        "One huge advantage of Hug Chat is it is FREE. The open-source library is fairly lightweight, only allowing one prompt, but since we don't have to worry about cost per token, we can add additional details to the prompt if needed."
      ],
      "metadata": {
        "id": "UVRR-UM_Y_SR"
      }
    },
    {
      "cell_type": "code",
      "source": [
        "hf_preds_df = test_df.copy()"
      ],
      "metadata": {
        "id": "OL6UwiXqdFOv"
      },
      "execution_count": null,
      "outputs": []
    },
    {
      "cell_type": "markdown",
      "source": [
        "We will be using the default model for testing: CohereForAI/c4ai-command-r-plus"
      ],
      "metadata": {
        "id": "GYukAirtMIRc"
      }
    },
    {
      "cell_type": "code",
      "source": [
        "## function to switch models\n",
        "## testing with default (0)\n",
        "def switch_model(models):\n",
        "    print(\"Available models:\")\n",
        "    for i, model in enumerate(models):\n",
        "        print(f\"{i}: {model}\")\n",
        "\n",
        "    while True:\n",
        "        try:\n",
        "            index = int(input(\"Enter the index of the model you want to switch to: \"))\n",
        "            chatbot.switch_llm(index)\n",
        "            print(f\"Switched to model {index}: {models[index]}\")\n",
        "            break\n",
        "        except ValueError:\n",
        "            print(\"Invalid input. Please enter a number.\")"
      ],
      "metadata": {
        "id": "rjku1RM0g1bO"
      },
      "execution_count": null,
      "outputs": []
    },
    {
      "cell_type": "code",
      "source": [
        "## Log in to huggingface and grant authorization to huggingchat\n",
        "## trailing slash (/) is required to avoid errors\n",
        "cookie_path_dir = \"./cookies/\"\n",
        "sign = Login(hf_email, hf_pw)\n",
        "cookies = sign.login(cookie_dir_path=cookie_path_dir, save_cookies=True)\n",
        "## create chatbot session\n",
        "chatbot = hugchat.ChatBot(cookies=cookies.get_dict())\n",
        "## display available models\n",
        "models = chatbot.get_available_llm_models()\n",
        "## run function to switch between models (if needed)\n",
        "switch_model(models)"
      ],
      "metadata": {
        "id": "yXizrghJMOcE",
        "colab": {
          "base_uri": "https://localhost:8080/"
        },
        "outputId": "87e4329d-9fbc-4ff9-8791-1d52eda16b66"
      },
      "execution_count": null,
      "outputs": [
        {
          "output_type": "stream",
          "name": "stdout",
          "text": [
            "Available models:\n",
            "0: CohereForAI/c4ai-command-r-plus\n",
            "1: meta-llama/Meta-Llama-3-70B-Instruct\n",
            "2: HuggingFaceH4/zephyr-orpo-141b-A35b-v0.1\n",
            "3: mistralai/Mixtral-8x7B-Instruct-v0.1\n",
            "4: NousResearch/Nous-Hermes-2-Mixtral-8x7B-DPO\n",
            "5: 01-ai/Yi-1.5-34B-Chat\n",
            "6: google/gemma-1.1-7b-it\n",
            "7: mistralai/Mistral-7B-Instruct-v0.2\n",
            "8: microsoft/Phi-3-mini-4k-instruct\n",
            "Enter the index of the model you want to switch to: 0\n",
            "Switched to model 0: CohereForAI/c4ai-command-r-plus\n"
          ]
        }
      ]
    },
    {
      "cell_type": "code",
      "source": [
        "tracker_list = []\n",
        "\n",
        "for i, text in enumerate(hf_preds_df['text']):\n",
        "    print(\"Text Item:\", text)\n",
        "    while True:\n",
        "        try:\n",
        "            user_prompt = create_user_prompt(unique_labels_list, text)\n",
        "            response = chatbot.chat(user_prompt)\n",
        "            print(\"HF Output:\", response)\n",
        "            ## Parsing the Message into a dictionary object\n",
        "            str_response = str(response)\n",
        "            json_response = json.loads(str_response)\n",
        "            print(\"Parsed JSON:\", json_response)\n",
        "            if json_response is not None:\n",
        "                ## Extracting key and value as separate variables using popitem()\n",
        "                key, value = json_response.popitem()\n",
        "                tracker = {key: value}\n",
        "                print(\"Dict Output:\", tracker)\n",
        "                if text == key and value in unique_labels_list:\n",
        "                    print(\"Adding prediction to df\")\n",
        "                    hf_preds_df.at[i, 'predicted_label'] = value\n",
        "                    tracker_list.append(tracker)\n",
        "                    break\n",
        "                else:\n",
        "                    print(\"Invalid Response from HF, resubmitting request\")\n",
        "            else:\n",
        "                print(\"JSON response is None, resubmitting request...\")\n",
        "        except Exception as e:\n",
        "            ## When HF flags for rate limit, pause requests for one minute\n",
        "            print(f\"An error occurred: {e}\")\n",
        "            if \"You are sending too many messages\" in str(e):\n",
        "                print(\"Rate limit exceeded. Waiting for 100 seconds to retry...\")\n",
        "                time.sleep(100)  ## Wait for 100 seconds before retrying\n",
        "            else:\n",
        "                break  ## Exit the loop for other exceptions\n",
        "\n",
        "print(\"Tracker List:\", tracker_list)"
      ],
      "metadata": {
        "id": "3PXVfOyhdOLO",
        "collapsed": true
      },
      "execution_count": null,
      "outputs": []
    },
    {
      "cell_type": "markdown",
      "source": [
        "Sample Output:\n",
        "\n",
        "\"Text Item: Education Technology Specialist\n",
        "\n",
        "HF Output: {\"Education Technology Specialist\": \"education\"}\n",
        "\n",
        "Parsed JSON: {'Education Technology Specialist': 'education'}\n",
        "\n",
        "Extracted key-value pair: Education Technology Specialist education\n",
        "\n",
        "Adding prediction to df\""
      ],
      "metadata": {
        "id": "hpdULM_8C6Zg"
      }
    },
    {
      "cell_type": "code",
      "source": [
        "## load in the previously created predictions dataframe\n",
        "hf_preds_df = pd.read_csv('predictions_hf0.csv')"
      ],
      "metadata": {
        "id": "Lj_QTu8b4tjX"
      },
      "execution_count": null,
      "outputs": []
    },
    {
      "cell_type": "code",
      "source": [
        "unique_labels = hf_preds_df['predicted_label'].unique()\n",
        "unique_labels_list = unique_labels.tolist()\n",
        "print(\"Label Counts List:\", unique_labels_list)"
      ],
      "metadata": {
        "colab": {
          "base_uri": "https://localhost:8080/"
        },
        "id": "jWnggVLTyZ5S",
        "outputId": "b2f7ff8a-c218-40b3-8a67-0681a6c34779"
      },
      "execution_count": null,
      "outputs": [
        {
          "output_type": "stream",
          "name": "stdout",
          "text": [
            "Label Counts List: ['education', 'technology', 'retail_hospitality', 'legal', 'drama_arts', 'marketing_advertising', 'healthcare', 'finance']\n"
          ]
        }
      ]
    },
    {
      "cell_type": "code",
      "source": [
        "hf_preds_df.head()"
      ],
      "metadata": {
        "colab": {
          "base_uri": "https://localhost:8080/",
          "height": 206
        },
        "id": "GxndSsV7f5rL",
        "outputId": "2ce6b5d0-1c56-454b-fc01-b45ff7a6778e"
      },
      "execution_count": null,
      "outputs": [
        {
          "output_type": "execute_result",
          "data": {
            "text/plain": [
              "                   label                             text     predicted_label\n",
              "0              education  Education Technology Specialist           education\n",
              "1             technology        Incident Response Analyst          technology\n",
              "2     retail_hospitality           Spa Operations Manager  retail_hospitality\n",
              "3  marketing_advertising                     Data Analyst          technology\n",
              "4             drama_arts                   Hair Assistant  retail_hospitality"
            ],
            "text/html": [
              "\n",
              "  <div id=\"df-4f3145d4-c2ea-441e-88fb-67fac98dbe32\" class=\"colab-df-container\">\n",
              "    <div>\n",
              "<style scoped>\n",
              "    .dataframe tbody tr th:only-of-type {\n",
              "        vertical-align: middle;\n",
              "    }\n",
              "\n",
              "    .dataframe tbody tr th {\n",
              "        vertical-align: top;\n",
              "    }\n",
              "\n",
              "    .dataframe thead th {\n",
              "        text-align: right;\n",
              "    }\n",
              "</style>\n",
              "<table border=\"1\" class=\"dataframe\">\n",
              "  <thead>\n",
              "    <tr style=\"text-align: right;\">\n",
              "      <th></th>\n",
              "      <th>label</th>\n",
              "      <th>text</th>\n",
              "      <th>predicted_label</th>\n",
              "    </tr>\n",
              "  </thead>\n",
              "  <tbody>\n",
              "    <tr>\n",
              "      <th>0</th>\n",
              "      <td>education</td>\n",
              "      <td>Education Technology Specialist</td>\n",
              "      <td>education</td>\n",
              "    </tr>\n",
              "    <tr>\n",
              "      <th>1</th>\n",
              "      <td>technology</td>\n",
              "      <td>Incident Response Analyst</td>\n",
              "      <td>technology</td>\n",
              "    </tr>\n",
              "    <tr>\n",
              "      <th>2</th>\n",
              "      <td>retail_hospitality</td>\n",
              "      <td>Spa Operations Manager</td>\n",
              "      <td>retail_hospitality</td>\n",
              "    </tr>\n",
              "    <tr>\n",
              "      <th>3</th>\n",
              "      <td>marketing_advertising</td>\n",
              "      <td>Data Analyst</td>\n",
              "      <td>technology</td>\n",
              "    </tr>\n",
              "    <tr>\n",
              "      <th>4</th>\n",
              "      <td>drama_arts</td>\n",
              "      <td>Hair Assistant</td>\n",
              "      <td>retail_hospitality</td>\n",
              "    </tr>\n",
              "  </tbody>\n",
              "</table>\n",
              "</div>\n",
              "    <div class=\"colab-df-buttons\">\n",
              "\n",
              "  <div class=\"colab-df-container\">\n",
              "    <button class=\"colab-df-convert\" onclick=\"convertToInteractive('df-4f3145d4-c2ea-441e-88fb-67fac98dbe32')\"\n",
              "            title=\"Convert this dataframe to an interactive table.\"\n",
              "            style=\"display:none;\">\n",
              "\n",
              "  <svg xmlns=\"http://www.w3.org/2000/svg\" height=\"24px\" viewBox=\"0 -960 960 960\">\n",
              "    <path d=\"M120-120v-720h720v720H120Zm60-500h600v-160H180v160Zm220 220h160v-160H400v160Zm0 220h160v-160H400v160ZM180-400h160v-160H180v160Zm440 0h160v-160H620v160ZM180-180h160v-160H180v160Zm440 0h160v-160H620v160Z\"/>\n",
              "  </svg>\n",
              "    </button>\n",
              "\n",
              "  <style>\n",
              "    .colab-df-container {\n",
              "      display:flex;\n",
              "      gap: 12px;\n",
              "    }\n",
              "\n",
              "    .colab-df-convert {\n",
              "      background-color: #E8F0FE;\n",
              "      border: none;\n",
              "      border-radius: 50%;\n",
              "      cursor: pointer;\n",
              "      display: none;\n",
              "      fill: #1967D2;\n",
              "      height: 32px;\n",
              "      padding: 0 0 0 0;\n",
              "      width: 32px;\n",
              "    }\n",
              "\n",
              "    .colab-df-convert:hover {\n",
              "      background-color: #E2EBFA;\n",
              "      box-shadow: 0px 1px 2px rgba(60, 64, 67, 0.3), 0px 1px 3px 1px rgba(60, 64, 67, 0.15);\n",
              "      fill: #174EA6;\n",
              "    }\n",
              "\n",
              "    .colab-df-buttons div {\n",
              "      margin-bottom: 4px;\n",
              "    }\n",
              "\n",
              "    [theme=dark] .colab-df-convert {\n",
              "      background-color: #3B4455;\n",
              "      fill: #D2E3FC;\n",
              "    }\n",
              "\n",
              "    [theme=dark] .colab-df-convert:hover {\n",
              "      background-color: #434B5C;\n",
              "      box-shadow: 0px 1px 3px 1px rgba(0, 0, 0, 0.15);\n",
              "      filter: drop-shadow(0px 1px 2px rgba(0, 0, 0, 0.3));\n",
              "      fill: #FFFFFF;\n",
              "    }\n",
              "  </style>\n",
              "\n",
              "    <script>\n",
              "      const buttonEl =\n",
              "        document.querySelector('#df-4f3145d4-c2ea-441e-88fb-67fac98dbe32 button.colab-df-convert');\n",
              "      buttonEl.style.display =\n",
              "        google.colab.kernel.accessAllowed ? 'block' : 'none';\n",
              "\n",
              "      async function convertToInteractive(key) {\n",
              "        const element = document.querySelector('#df-4f3145d4-c2ea-441e-88fb-67fac98dbe32');\n",
              "        const dataTable =\n",
              "          await google.colab.kernel.invokeFunction('convertToInteractive',\n",
              "                                                    [key], {});\n",
              "        if (!dataTable) return;\n",
              "\n",
              "        const docLinkHtml = 'Like what you see? Visit the ' +\n",
              "          '<a target=\"_blank\" href=https://colab.research.google.com/notebooks/data_table.ipynb>data table notebook</a>'\n",
              "          + ' to learn more about interactive tables.';\n",
              "        element.innerHTML = '';\n",
              "        dataTable['output_type'] = 'display_data';\n",
              "        await google.colab.output.renderOutput(dataTable, element);\n",
              "        const docLink = document.createElement('div');\n",
              "        docLink.innerHTML = docLinkHtml;\n",
              "        element.appendChild(docLink);\n",
              "      }\n",
              "    </script>\n",
              "  </div>\n",
              "\n",
              "\n",
              "<div id=\"df-34d1d30c-fda0-4f4f-b7f9-36eec6b71685\">\n",
              "  <button class=\"colab-df-quickchart\" onclick=\"quickchart('df-34d1d30c-fda0-4f4f-b7f9-36eec6b71685')\"\n",
              "            title=\"Suggest charts\"\n",
              "            style=\"display:none;\">\n",
              "\n",
              "<svg xmlns=\"http://www.w3.org/2000/svg\" height=\"24px\"viewBox=\"0 0 24 24\"\n",
              "     width=\"24px\">\n",
              "    <g>\n",
              "        <path d=\"M19 3H5c-1.1 0-2 .9-2 2v14c0 1.1.9 2 2 2h14c1.1 0 2-.9 2-2V5c0-1.1-.9-2-2-2zM9 17H7v-7h2v7zm4 0h-2V7h2v10zm4 0h-2v-4h2v4z\"/>\n",
              "    </g>\n",
              "</svg>\n",
              "  </button>\n",
              "\n",
              "<style>\n",
              "  .colab-df-quickchart {\n",
              "      --bg-color: #E8F0FE;\n",
              "      --fill-color: #1967D2;\n",
              "      --hover-bg-color: #E2EBFA;\n",
              "      --hover-fill-color: #174EA6;\n",
              "      --disabled-fill-color: #AAA;\n",
              "      --disabled-bg-color: #DDD;\n",
              "  }\n",
              "\n",
              "  [theme=dark] .colab-df-quickchart {\n",
              "      --bg-color: #3B4455;\n",
              "      --fill-color: #D2E3FC;\n",
              "      --hover-bg-color: #434B5C;\n",
              "      --hover-fill-color: #FFFFFF;\n",
              "      --disabled-bg-color: #3B4455;\n",
              "      --disabled-fill-color: #666;\n",
              "  }\n",
              "\n",
              "  .colab-df-quickchart {\n",
              "    background-color: var(--bg-color);\n",
              "    border: none;\n",
              "    border-radius: 50%;\n",
              "    cursor: pointer;\n",
              "    display: none;\n",
              "    fill: var(--fill-color);\n",
              "    height: 32px;\n",
              "    padding: 0;\n",
              "    width: 32px;\n",
              "  }\n",
              "\n",
              "  .colab-df-quickchart:hover {\n",
              "    background-color: var(--hover-bg-color);\n",
              "    box-shadow: 0 1px 2px rgba(60, 64, 67, 0.3), 0 1px 3px 1px rgba(60, 64, 67, 0.15);\n",
              "    fill: var(--button-hover-fill-color);\n",
              "  }\n",
              "\n",
              "  .colab-df-quickchart-complete:disabled,\n",
              "  .colab-df-quickchart-complete:disabled:hover {\n",
              "    background-color: var(--disabled-bg-color);\n",
              "    fill: var(--disabled-fill-color);\n",
              "    box-shadow: none;\n",
              "  }\n",
              "\n",
              "  .colab-df-spinner {\n",
              "    border: 2px solid var(--fill-color);\n",
              "    border-color: transparent;\n",
              "    border-bottom-color: var(--fill-color);\n",
              "    animation:\n",
              "      spin 1s steps(1) infinite;\n",
              "  }\n",
              "\n",
              "  @keyframes spin {\n",
              "    0% {\n",
              "      border-color: transparent;\n",
              "      border-bottom-color: var(--fill-color);\n",
              "      border-left-color: var(--fill-color);\n",
              "    }\n",
              "    20% {\n",
              "      border-color: transparent;\n",
              "      border-left-color: var(--fill-color);\n",
              "      border-top-color: var(--fill-color);\n",
              "    }\n",
              "    30% {\n",
              "      border-color: transparent;\n",
              "      border-left-color: var(--fill-color);\n",
              "      border-top-color: var(--fill-color);\n",
              "      border-right-color: var(--fill-color);\n",
              "    }\n",
              "    40% {\n",
              "      border-color: transparent;\n",
              "      border-right-color: var(--fill-color);\n",
              "      border-top-color: var(--fill-color);\n",
              "    }\n",
              "    60% {\n",
              "      border-color: transparent;\n",
              "      border-right-color: var(--fill-color);\n",
              "    }\n",
              "    80% {\n",
              "      border-color: transparent;\n",
              "      border-right-color: var(--fill-color);\n",
              "      border-bottom-color: var(--fill-color);\n",
              "    }\n",
              "    90% {\n",
              "      border-color: transparent;\n",
              "      border-bottom-color: var(--fill-color);\n",
              "    }\n",
              "  }\n",
              "</style>\n",
              "\n",
              "  <script>\n",
              "    async function quickchart(key) {\n",
              "      const quickchartButtonEl =\n",
              "        document.querySelector('#' + key + ' button');\n",
              "      quickchartButtonEl.disabled = true;  // To prevent multiple clicks.\n",
              "      quickchartButtonEl.classList.add('colab-df-spinner');\n",
              "      try {\n",
              "        const charts = await google.colab.kernel.invokeFunction(\n",
              "            'suggestCharts', [key], {});\n",
              "      } catch (error) {\n",
              "        console.error('Error during call to suggestCharts:', error);\n",
              "      }\n",
              "      quickchartButtonEl.classList.remove('colab-df-spinner');\n",
              "      quickchartButtonEl.classList.add('colab-df-quickchart-complete');\n",
              "    }\n",
              "    (() => {\n",
              "      let quickchartButtonEl =\n",
              "        document.querySelector('#df-34d1d30c-fda0-4f4f-b7f9-36eec6b71685 button');\n",
              "      quickchartButtonEl.style.display =\n",
              "        google.colab.kernel.accessAllowed ? 'block' : 'none';\n",
              "    })();\n",
              "  </script>\n",
              "</div>\n",
              "    </div>\n",
              "  </div>\n"
            ],
            "application/vnd.google.colaboratory.intrinsic+json": {
              "type": "dataframe",
              "variable_name": "hf_preds_df",
              "summary": "{\n  \"name\": \"hf_preds_df\",\n  \"rows\": 200,\n  \"fields\": [\n    {\n      \"column\": \"label\",\n      \"properties\": {\n        \"dtype\": \"category\",\n        \"num_unique_values\": 8,\n        \"samples\": [\n          \"technology\",\n          \"legal\",\n          \"education\"\n        ],\n        \"semantic_type\": \"\",\n        \"description\": \"\"\n      }\n    },\n    {\n      \"column\": \"text\",\n      \"properties\": {\n        \"dtype\": \"string\",\n        \"num_unique_values\": 200,\n        \"samples\": [\n          \"Elementary School Teacher\",\n          \"Medical Laboratory Technician\",\n          \"Actor/Actress\"\n        ],\n        \"semantic_type\": \"\",\n        \"description\": \"\"\n      }\n    },\n    {\n      \"column\": \"predicted_label\",\n      \"properties\": {\n        \"dtype\": \"category\",\n        \"num_unique_values\": 8,\n        \"samples\": [\n          \"technology\",\n          \"marketing_advertising\",\n          \"education\"\n        ],\n        \"semantic_type\": \"\",\n        \"description\": \"\"\n      }\n    }\n  ]\n}"
            }
          },
          "metadata": {},
          "execution_count": 45
        }
      ]
    },
    {
      "cell_type": "code",
      "source": [
        "test_set_accuracy(hf_preds_df)"
      ],
      "metadata": {
        "colab": {
          "base_uri": "https://localhost:8080/"
        },
        "id": "OPkZ1N4Rf95P",
        "outputId": "c9f815c9-7279-48c3-f4d2-b6e96e2b502e"
      },
      "execution_count": null,
      "outputs": [
        {
          "output_type": "stream",
          "name": "stdout",
          "text": [
            "Accuracy: 0.95\n"
          ]
        }
      ]
    },
    {
      "cell_type": "markdown",
      "source": [
        "HugChat gives us a 95% accuracy! For a free and open-source API this is incredible.\n",
        "\n",
        "Some additional observations while working with the Hug Chat API:\n",
        "- It is much slower than the other options\n",
        "- It will hit users with a rate limit error very quickly\n",
        "- The available models change over time, but currently include Llama 3. Having access to many options for free is a plus.\n",
        "- There are less parameters available such as functions, system/user prompts and temperature.\n",
        "\n",
        "However, the API is totally free to use, which could make this a viable options for those on a budget."
      ],
      "metadata": {
        "id": "rZ9XuqYCrNW_"
      }
    },
    {
      "cell_type": "markdown",
      "source": [
        "## Anthropic Claude"
      ],
      "metadata": {
        "id": "XXt6jg_l5hC-"
      }
    },
    {
      "cell_type": "markdown",
      "source": [
        "Claude has 3 models available: Haiku, Sonnet and Opus. Haiku being light and fast while Opus is the largest and most powerful model. All models are in a paid for tier, scaling up from Haiku. They offer $5 in free credits to get started.\n",
        "\n",
        "Claude utilizes function calling which can be included in the parameters if needed. We will include it in our code to ensure proper output structure. It is very similar in schema to GPT but with some slight variations so we will need to adjust and reset the \"tools\" variables.\n",
        "\n",
        "They also allow for integration with Google Sheets, allowing users to execute interactions with Claude directly in cells. It is important to provide extremely detailed descriptions, per Claude's documentation. They have a very thorough \"performance enhancement\" user guide, which we suggest becoming familiar with to get the most out the models."
      ],
      "metadata": {
        "id": "XK3o_ihygYfY"
      }
    },
    {
      "cell_type": "code",
      "source": [
        "client = anthropic.Anthropic(api_key=claude_api_key)"
      ],
      "metadata": {
        "id": "F1Bd49lt-X40"
      },
      "execution_count": null,
      "outputs": []
    },
    {
      "cell_type": "code",
      "source": [
        "claude_preds_df = test_df.copy()"
      ],
      "metadata": {
        "id": "DpzlWNH0825d"
      },
      "execution_count": null,
      "outputs": []
    },
    {
      "cell_type": "code",
      "source": [
        "#model_name = 'claude-3-haiku-20240307'\n",
        "model_name = 'claude-3-sonnet-20240229'\n",
        "#model_name = 'claude-3-opus-20240229'"
      ],
      "metadata": {
        "id": "AD3aIzyB9wXM"
      },
      "execution_count": null,
      "outputs": []
    },
    {
      "cell_type": "code",
      "source": [
        "## Define the function\n",
        "tools = [\n",
        "        {\n",
        "            \"name\": \"generate_dictionary\",\n",
        "            \"description\": \"Generate a dictionary with 'key' equal to the input text value and 'value' equal to the matching topic from the existing list.\",\n",
        "            \"input_schema\": {\n",
        "                \"type\": \"object\",\n",
        "                \"properties\": {\n",
        "                    \"key\": {\n",
        "                        \"type\": \"string\",\n",
        "                        \"description\": \"The input text.\"\n",
        "                    },\n",
        "                    \"value\": {\n",
        "                        \"type\": \"string\",\n",
        "                        \"description\": \"The matching topic from the existing list of topics.\"\n",
        "                    }\n",
        "                }\n",
        "            }\n",
        "        }\n",
        "]"
      ],
      "metadata": {
        "id": "kCOEHZTxV25S"
      },
      "execution_count": null,
      "outputs": []
    },
    {
      "cell_type": "code",
      "source": [
        "def claude_call(model_name, tools, system_prompt, user_prompt):\n",
        "    message = client.beta.tools.messages.create(\n",
        "        model=model_name,\n",
        "        max_tokens=100,\n",
        "        temperature=0.5,\n",
        "        tools=tools,\n",
        "        system=system_prompt,\n",
        "        messages=[\n",
        "            {\n",
        "                \"role\": \"user\",\n",
        "                \"content\": [\n",
        "                    {\n",
        "                        \"type\": \"text\",\n",
        "                        \"text\": user_prompt\n",
        "                    }\n",
        "                ]\n",
        "            }\n",
        "        ]\n",
        "    )\n",
        "    response = message.content\n",
        "\n",
        "    return response"
      ],
      "metadata": {
        "id": "e7gBHXOc-AAa"
      },
      "execution_count": null,
      "outputs": []
    },
    {
      "cell_type": "code",
      "source": [
        "tracker_list = []\n",
        "\n",
        "for i, text in enumerate(claude_preds_df['text']):\n",
        "    print(\"Text Item:\", text)\n",
        "    while True:\n",
        "        try:\n",
        "            user_prompt = create_user_prompt(unique_labels_list, text)\n",
        "            response = claude_call(model_name, tools, system_prompt, user_prompt)\n",
        "            print(\"Claude Output:\", response)\n",
        "            ## set the key:value pair based on the GPT output\n",
        "            c_key = response[0].input['key']\n",
        "            c_value = response[0].input['value']\n",
        "            tracker = {c_key: c_value}\n",
        "            print(\"Dict Output: \", tracker)\n",
        "            ## if the output value is not blank, append the dictionary to the final list and exit the while loop\n",
        "            ## Check if both key and value have values\n",
        "            if c_key is not None and c_value is not None and c_value != '':\n",
        "                ## Append the dictionary to the final list\n",
        "                tracker_list.append(tracker)\n",
        "                ## Update claude_preds_df with the c_value\n",
        "                claude_preds_df.at[i, 'predicted_label'] = c_value\n",
        "                break  ## Exit the while loop\n",
        "        except Exception as e:\n",
        "            ## Catch all exceptions\n",
        "            print(f\"An error occurred: {e}\")\n",
        "            if \"rate_limit_error\" in str(e).lower():\n",
        "                print(\"Rate limit exceeded. Waiting for 100 seconds to retry...\")\n",
        "                time.sleep(100)  ## Wait for 100 seconds (adjust as needed)\n",
        "            else:\n",
        "                break  ## Exit the loop for other exceptions\n",
        "\n",
        "print(\"Tracker List:\", tracker_list)"
      ],
      "metadata": {
        "id": "78lpSgCW-bNX",
        "collapsed": true
      },
      "execution_count": null,
      "outputs": []
    },
    {
      "cell_type": "markdown",
      "source": [
        "Sample Output:\n",
        "\n",
        "\"Text Item: Education Technology Specialist\n",
        "\n",
        "Claude Output: [ToolUseBlock(id='toolu_01BhMNje4zGF9xWeq3bpdKUm', input={'key': 'Education Technology Specialist', 'value': 'technology'}, name='generate_dictionary', type='tool_use')]\n",
        "\n",
        "Dict Output:  {'Education Technology Specialist': 'technology'}\""
      ],
      "metadata": {
        "id": "tynsnOy6DSim"
      }
    },
    {
      "cell_type": "code",
      "source": [
        "## load in the previously created predictions dataframe\n",
        "claude_preds_df = pd.read_csv('predictions_claude_sonnet.csv')"
      ],
      "metadata": {
        "id": "9j7P92lY45Od"
      },
      "execution_count": null,
      "outputs": []
    },
    {
      "cell_type": "code",
      "source": [
        "claude_preds_df.head()"
      ],
      "metadata": {
        "id": "1DYiGVqC_rC7",
        "colab": {
          "base_uri": "https://localhost:8080/",
          "height": 206
        },
        "outputId": "5b26aead-0002-4f44-ddda-2216dfc83d25"
      },
      "execution_count": null,
      "outputs": [
        {
          "output_type": "execute_result",
          "data": {
            "text/plain": [
              "                   label                             text     predicted_label\n",
              "0              education  Education Technology Specialist          technology\n",
              "1             technology        Incident Response Analyst          technology\n",
              "2     retail_hospitality           Spa Operations Manager  retail_hospitality\n",
              "3  marketing_advertising                     Data Analyst          technology\n",
              "4             drama_arts                   Hair Assistant  retail_hospitality"
            ],
            "text/html": [
              "\n",
              "  <div id=\"df-8ea794a0-d69e-4007-bae6-ce6b3442f563\" class=\"colab-df-container\">\n",
              "    <div>\n",
              "<style scoped>\n",
              "    .dataframe tbody tr th:only-of-type {\n",
              "        vertical-align: middle;\n",
              "    }\n",
              "\n",
              "    .dataframe tbody tr th {\n",
              "        vertical-align: top;\n",
              "    }\n",
              "\n",
              "    .dataframe thead th {\n",
              "        text-align: right;\n",
              "    }\n",
              "</style>\n",
              "<table border=\"1\" class=\"dataframe\">\n",
              "  <thead>\n",
              "    <tr style=\"text-align: right;\">\n",
              "      <th></th>\n",
              "      <th>label</th>\n",
              "      <th>text</th>\n",
              "      <th>predicted_label</th>\n",
              "    </tr>\n",
              "  </thead>\n",
              "  <tbody>\n",
              "    <tr>\n",
              "      <th>0</th>\n",
              "      <td>education</td>\n",
              "      <td>Education Technology Specialist</td>\n",
              "      <td>technology</td>\n",
              "    </tr>\n",
              "    <tr>\n",
              "      <th>1</th>\n",
              "      <td>technology</td>\n",
              "      <td>Incident Response Analyst</td>\n",
              "      <td>technology</td>\n",
              "    </tr>\n",
              "    <tr>\n",
              "      <th>2</th>\n",
              "      <td>retail_hospitality</td>\n",
              "      <td>Spa Operations Manager</td>\n",
              "      <td>retail_hospitality</td>\n",
              "    </tr>\n",
              "    <tr>\n",
              "      <th>3</th>\n",
              "      <td>marketing_advertising</td>\n",
              "      <td>Data Analyst</td>\n",
              "      <td>technology</td>\n",
              "    </tr>\n",
              "    <tr>\n",
              "      <th>4</th>\n",
              "      <td>drama_arts</td>\n",
              "      <td>Hair Assistant</td>\n",
              "      <td>retail_hospitality</td>\n",
              "    </tr>\n",
              "  </tbody>\n",
              "</table>\n",
              "</div>\n",
              "    <div class=\"colab-df-buttons\">\n",
              "\n",
              "  <div class=\"colab-df-container\">\n",
              "    <button class=\"colab-df-convert\" onclick=\"convertToInteractive('df-8ea794a0-d69e-4007-bae6-ce6b3442f563')\"\n",
              "            title=\"Convert this dataframe to an interactive table.\"\n",
              "            style=\"display:none;\">\n",
              "\n",
              "  <svg xmlns=\"http://www.w3.org/2000/svg\" height=\"24px\" viewBox=\"0 -960 960 960\">\n",
              "    <path d=\"M120-120v-720h720v720H120Zm60-500h600v-160H180v160Zm220 220h160v-160H400v160Zm0 220h160v-160H400v160ZM180-400h160v-160H180v160Zm440 0h160v-160H620v160ZM180-180h160v-160H180v160Zm440 0h160v-160H620v160Z\"/>\n",
              "  </svg>\n",
              "    </button>\n",
              "\n",
              "  <style>\n",
              "    .colab-df-container {\n",
              "      display:flex;\n",
              "      gap: 12px;\n",
              "    }\n",
              "\n",
              "    .colab-df-convert {\n",
              "      background-color: #E8F0FE;\n",
              "      border: none;\n",
              "      border-radius: 50%;\n",
              "      cursor: pointer;\n",
              "      display: none;\n",
              "      fill: #1967D2;\n",
              "      height: 32px;\n",
              "      padding: 0 0 0 0;\n",
              "      width: 32px;\n",
              "    }\n",
              "\n",
              "    .colab-df-convert:hover {\n",
              "      background-color: #E2EBFA;\n",
              "      box-shadow: 0px 1px 2px rgba(60, 64, 67, 0.3), 0px 1px 3px 1px rgba(60, 64, 67, 0.15);\n",
              "      fill: #174EA6;\n",
              "    }\n",
              "\n",
              "    .colab-df-buttons div {\n",
              "      margin-bottom: 4px;\n",
              "    }\n",
              "\n",
              "    [theme=dark] .colab-df-convert {\n",
              "      background-color: #3B4455;\n",
              "      fill: #D2E3FC;\n",
              "    }\n",
              "\n",
              "    [theme=dark] .colab-df-convert:hover {\n",
              "      background-color: #434B5C;\n",
              "      box-shadow: 0px 1px 3px 1px rgba(0, 0, 0, 0.15);\n",
              "      filter: drop-shadow(0px 1px 2px rgba(0, 0, 0, 0.3));\n",
              "      fill: #FFFFFF;\n",
              "    }\n",
              "  </style>\n",
              "\n",
              "    <script>\n",
              "      const buttonEl =\n",
              "        document.querySelector('#df-8ea794a0-d69e-4007-bae6-ce6b3442f563 button.colab-df-convert');\n",
              "      buttonEl.style.display =\n",
              "        google.colab.kernel.accessAllowed ? 'block' : 'none';\n",
              "\n",
              "      async function convertToInteractive(key) {\n",
              "        const element = document.querySelector('#df-8ea794a0-d69e-4007-bae6-ce6b3442f563');\n",
              "        const dataTable =\n",
              "          await google.colab.kernel.invokeFunction('convertToInteractive',\n",
              "                                                    [key], {});\n",
              "        if (!dataTable) return;\n",
              "\n",
              "        const docLinkHtml = 'Like what you see? Visit the ' +\n",
              "          '<a target=\"_blank\" href=https://colab.research.google.com/notebooks/data_table.ipynb>data table notebook</a>'\n",
              "          + ' to learn more about interactive tables.';\n",
              "        element.innerHTML = '';\n",
              "        dataTable['output_type'] = 'display_data';\n",
              "        await google.colab.output.renderOutput(dataTable, element);\n",
              "        const docLink = document.createElement('div');\n",
              "        docLink.innerHTML = docLinkHtml;\n",
              "        element.appendChild(docLink);\n",
              "      }\n",
              "    </script>\n",
              "  </div>\n",
              "\n",
              "\n",
              "<div id=\"df-3faf9a9f-456f-473c-b8aa-a68a0b51f183\">\n",
              "  <button class=\"colab-df-quickchart\" onclick=\"quickchart('df-3faf9a9f-456f-473c-b8aa-a68a0b51f183')\"\n",
              "            title=\"Suggest charts\"\n",
              "            style=\"display:none;\">\n",
              "\n",
              "<svg xmlns=\"http://www.w3.org/2000/svg\" height=\"24px\"viewBox=\"0 0 24 24\"\n",
              "     width=\"24px\">\n",
              "    <g>\n",
              "        <path d=\"M19 3H5c-1.1 0-2 .9-2 2v14c0 1.1.9 2 2 2h14c1.1 0 2-.9 2-2V5c0-1.1-.9-2-2-2zM9 17H7v-7h2v7zm4 0h-2V7h2v10zm4 0h-2v-4h2v4z\"/>\n",
              "    </g>\n",
              "</svg>\n",
              "  </button>\n",
              "\n",
              "<style>\n",
              "  .colab-df-quickchart {\n",
              "      --bg-color: #E8F0FE;\n",
              "      --fill-color: #1967D2;\n",
              "      --hover-bg-color: #E2EBFA;\n",
              "      --hover-fill-color: #174EA6;\n",
              "      --disabled-fill-color: #AAA;\n",
              "      --disabled-bg-color: #DDD;\n",
              "  }\n",
              "\n",
              "  [theme=dark] .colab-df-quickchart {\n",
              "      --bg-color: #3B4455;\n",
              "      --fill-color: #D2E3FC;\n",
              "      --hover-bg-color: #434B5C;\n",
              "      --hover-fill-color: #FFFFFF;\n",
              "      --disabled-bg-color: #3B4455;\n",
              "      --disabled-fill-color: #666;\n",
              "  }\n",
              "\n",
              "  .colab-df-quickchart {\n",
              "    background-color: var(--bg-color);\n",
              "    border: none;\n",
              "    border-radius: 50%;\n",
              "    cursor: pointer;\n",
              "    display: none;\n",
              "    fill: var(--fill-color);\n",
              "    height: 32px;\n",
              "    padding: 0;\n",
              "    width: 32px;\n",
              "  }\n",
              "\n",
              "  .colab-df-quickchart:hover {\n",
              "    background-color: var(--hover-bg-color);\n",
              "    box-shadow: 0 1px 2px rgba(60, 64, 67, 0.3), 0 1px 3px 1px rgba(60, 64, 67, 0.15);\n",
              "    fill: var(--button-hover-fill-color);\n",
              "  }\n",
              "\n",
              "  .colab-df-quickchart-complete:disabled,\n",
              "  .colab-df-quickchart-complete:disabled:hover {\n",
              "    background-color: var(--disabled-bg-color);\n",
              "    fill: var(--disabled-fill-color);\n",
              "    box-shadow: none;\n",
              "  }\n",
              "\n",
              "  .colab-df-spinner {\n",
              "    border: 2px solid var(--fill-color);\n",
              "    border-color: transparent;\n",
              "    border-bottom-color: var(--fill-color);\n",
              "    animation:\n",
              "      spin 1s steps(1) infinite;\n",
              "  }\n",
              "\n",
              "  @keyframes spin {\n",
              "    0% {\n",
              "      border-color: transparent;\n",
              "      border-bottom-color: var(--fill-color);\n",
              "      border-left-color: var(--fill-color);\n",
              "    }\n",
              "    20% {\n",
              "      border-color: transparent;\n",
              "      border-left-color: var(--fill-color);\n",
              "      border-top-color: var(--fill-color);\n",
              "    }\n",
              "    30% {\n",
              "      border-color: transparent;\n",
              "      border-left-color: var(--fill-color);\n",
              "      border-top-color: var(--fill-color);\n",
              "      border-right-color: var(--fill-color);\n",
              "    }\n",
              "    40% {\n",
              "      border-color: transparent;\n",
              "      border-right-color: var(--fill-color);\n",
              "      border-top-color: var(--fill-color);\n",
              "    }\n",
              "    60% {\n",
              "      border-color: transparent;\n",
              "      border-right-color: var(--fill-color);\n",
              "    }\n",
              "    80% {\n",
              "      border-color: transparent;\n",
              "      border-right-color: var(--fill-color);\n",
              "      border-bottom-color: var(--fill-color);\n",
              "    }\n",
              "    90% {\n",
              "      border-color: transparent;\n",
              "      border-bottom-color: var(--fill-color);\n",
              "    }\n",
              "  }\n",
              "</style>\n",
              "\n",
              "  <script>\n",
              "    async function quickchart(key) {\n",
              "      const quickchartButtonEl =\n",
              "        document.querySelector('#' + key + ' button');\n",
              "      quickchartButtonEl.disabled = true;  // To prevent multiple clicks.\n",
              "      quickchartButtonEl.classList.add('colab-df-spinner');\n",
              "      try {\n",
              "        const charts = await google.colab.kernel.invokeFunction(\n",
              "            'suggestCharts', [key], {});\n",
              "      } catch (error) {\n",
              "        console.error('Error during call to suggestCharts:', error);\n",
              "      }\n",
              "      quickchartButtonEl.classList.remove('colab-df-spinner');\n",
              "      quickchartButtonEl.classList.add('colab-df-quickchart-complete');\n",
              "    }\n",
              "    (() => {\n",
              "      let quickchartButtonEl =\n",
              "        document.querySelector('#df-3faf9a9f-456f-473c-b8aa-a68a0b51f183 button');\n",
              "      quickchartButtonEl.style.display =\n",
              "        google.colab.kernel.accessAllowed ? 'block' : 'none';\n",
              "    })();\n",
              "  </script>\n",
              "</div>\n",
              "    </div>\n",
              "  </div>\n"
            ],
            "application/vnd.google.colaboratory.intrinsic+json": {
              "type": "dataframe",
              "variable_name": "claude_preds_df",
              "summary": "{\n  \"name\": \"claude_preds_df\",\n  \"rows\": 200,\n  \"fields\": [\n    {\n      \"column\": \"label\",\n      \"properties\": {\n        \"dtype\": \"category\",\n        \"num_unique_values\": 8,\n        \"samples\": [\n          \"technology\",\n          \"legal\",\n          \"education\"\n        ],\n        \"semantic_type\": \"\",\n        \"description\": \"\"\n      }\n    },\n    {\n      \"column\": \"text\",\n      \"properties\": {\n        \"dtype\": \"string\",\n        \"num_unique_values\": 200,\n        \"samples\": [\n          \"Elementary School Teacher\",\n          \"Medical Laboratory Technician\",\n          \"Actor/Actress\"\n        ],\n        \"semantic_type\": \"\",\n        \"description\": \"\"\n      }\n    },\n    {\n      \"column\": \"predicted_label\",\n      \"properties\": {\n        \"dtype\": \"category\",\n        \"num_unique_values\": 8,\n        \"samples\": [\n          \"retail_hospitality\",\n          \"education\",\n          \"technology\"\n        ],\n        \"semantic_type\": \"\",\n        \"description\": \"\"\n      }\n    }\n  ]\n}"
            }
          },
          "metadata": {},
          "execution_count": 53
        }
      ]
    },
    {
      "cell_type": "code",
      "source": [
        "test_set_accuracy(claude_preds_df)"
      ],
      "metadata": {
        "id": "IkIhsA0RPS6S",
        "colab": {
          "base_uri": "https://localhost:8080/"
        },
        "outputId": "4890004c-53fb-4e8f-8353-acf0bb80f5c2"
      },
      "execution_count": null,
      "outputs": [
        {
          "output_type": "stream",
          "name": "stdout",
          "text": [
            "Accuracy: 0.925\n"
          ]
        }
      ]
    },
    {
      "cell_type": "markdown",
      "source": [
        "Claude's Sonnet model, the middleweight option, scores a 92.5% accuracy. The addition of a tool allows us to ensure output structure, limiting errors in the process. Anthropic might be a name users are unfamiliar with, but they offer a very user friendly experience to go along with performance right on par with the other popular LLMs."
      ],
      "metadata": {
        "id": "-3ncXwd_O8b_"
      }
    },
    {
      "cell_type": "markdown",
      "source": [
        "## Conclusion"
      ],
      "metadata": {
        "id": "E_GmQUrb5kPT"
      }
    },
    {
      "cell_type": "markdown",
      "source": [
        "In this study, we found our best performance of the series. Recall our baseline fastai AWD-LSTM model had a test accuracy of 60.5%, which has since been improved to 89% with the BERT transformer model and data augmentation. The LLMs in this study were able to provide accuracy from 90.5% - 95%. While not exactly the same these popular options offer a similar experience. The user friendly nature of OpenAI combined with its plethora of models to choose from makes for a compelling option. Hugging Face's open-source and completely free API is great for limited use but the lengthy response time and low rate limits make it difficult for larger completion tasks. Google's Gemini has an exceptional interface and offers valuable add-ons such as function calling, model tuning and can be linked to a user's google drive with ease. However, the current 1.0 version is a bit limited in tuning parameters and both versions have strict rate limits. Meta's ever improving Llama 3 offers strong performance and can be accessed via Hugging Chat or other third party API services like Replicate. It would be great to see Meta come out with their own API service for an even easier user experience. Incorporating function calling to keep the model output structure in place would be our top recommendation. Anthropic offers another easy to use option with features like function calling. We found it operates very similarly to OpenAI, which in our opinion is a positive and user friendly experience.\n",
        "\n",
        "We found merits in each of the options explored during this study. If you are just trying to become familiar with LLMs and are on a budget, it's a great idea to check out the open-source options like Hugging Face or Llama. If you want to add features such as functions, agents or assistants to really get the most out of your model, explore the options from OpenAI, Google and Anthropic. In the next study, we are going to dive into the world of agents and see if the hype is real. Many of these models can even accept images as input or can output an image based on a description (ex. GPT Dall-E). We only explored chat completion type models, but the possibilities feel limitless.\n",
        "\n",
        "As a reminder, this series is meant to be a survey of techniques for improving performance of NLP classification tasks with small datasets.\n",
        "\n",
        "Stay tuned for more case studies like this one and if there is something you would like to chat about, feel free to reach out at:\n",
        "\n",
        "shane@stelerivers.com"
      ],
      "metadata": {
        "id": "DFdc9wUgloeO"
      }
    }
  ]
}